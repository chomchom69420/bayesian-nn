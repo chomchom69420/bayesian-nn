{
  "cells": [
    {
      "cell_type": "markdown",
      "metadata": {
        "id": "view-in-github",
        "colab_type": "text"
      },
      "source": [
        "<a href=\"https://colab.research.google.com/github/chomchom69420/bayesian-nn/blob/master/mnist.ipynb\" target=\"_parent\"><img src=\"https://colab.research.google.com/assets/colab-badge.svg\" alt=\"Open In Colab\"/></a>"
      ]
    },
    {
      "cell_type": "code",
      "source": [
        "!pip install torchbnn"
      ],
      "metadata": {
        "id": "lX0NJ7Fx2yTg",
        "outputId": "156371ff-5534-4b82-ce88-0ff2bbd6a224",
        "colab": {
          "base_uri": "https://localhost:8080/"
        }
      },
      "execution_count": 1,
      "outputs": [
        {
          "output_type": "stream",
          "name": "stdout",
          "text": [
            "Collecting torchbnn\n",
            "  Downloading torchbnn-1.2-py3-none-any.whl.metadata (7.1 kB)\n",
            "Downloading torchbnn-1.2-py3-none-any.whl (12 kB)\n",
            "Installing collected packages: torchbnn\n",
            "Successfully installed torchbnn-1.2\n"
          ]
        }
      ]
    },
    {
      "cell_type": "code",
      "execution_count": 2,
      "metadata": {
        "id": "5YaSoQPce7p3"
      },
      "outputs": [],
      "source": [
        "import torch\n",
        "import torch.nn as nn\n",
        "import torchbnn as bnn\n",
        "import torch.nn.functional as F\n",
        "from torch.utils.data import DataLoader\n",
        "from torchvision import datasets, transforms\n",
        "from torchvision.utils import make_grid\n",
        "\n",
        "import numpy as np\n",
        "import pandas as pd\n",
        "from sklearn.metrics import confusion_matrix\n",
        "import matplotlib.pyplot as plt\n",
        "\n",
        "%matplotlib inline"
      ]
    },
    {
      "cell_type": "code",
      "execution_count": 3,
      "metadata": {
        "colab": {
          "base_uri": "https://localhost:8080/"
        },
        "id": "aSw3PONDhoZ0",
        "outputId": "1f3d1b8e-377f-41e2-d81f-8c5e238c5cda"
      },
      "outputs": [
        {
          "output_type": "stream",
          "name": "stdout",
          "text": [
            "True\n"
          ]
        }
      ],
      "source": [
        "print(torch.cuda.is_available())"
      ]
    },
    {
      "cell_type": "code",
      "execution_count": 4,
      "metadata": {
        "id": "bGOOcXD6e7p5"
      },
      "outputs": [],
      "source": [
        "# Convert MNIST images into 4D tensors (#images, height, width, color channel)\n",
        "\n",
        "transform = transforms.ToTensor()"
      ]
    },
    {
      "cell_type": "code",
      "execution_count": 5,
      "metadata": {
        "id": "UgQeEU3Be7p5",
        "outputId": "9cfa9819-6af7-41db-9a9d-52a052c94aad",
        "colab": {
          "base_uri": "https://localhost:8080/"
        }
      },
      "outputs": [
        {
          "output_type": "stream",
          "name": "stdout",
          "text": [
            "Downloading http://yann.lecun.com/exdb/mnist/train-images-idx3-ubyte.gz\n",
            "Failed to download (trying next):\n",
            "HTTP Error 403: Forbidden\n",
            "\n",
            "Downloading https://ossci-datasets.s3.amazonaws.com/mnist/train-images-idx3-ubyte.gz\n",
            "Downloading https://ossci-datasets.s3.amazonaws.com/mnist/train-images-idx3-ubyte.gz to ./data/MNIST/raw/train-images-idx3-ubyte.gz\n"
          ]
        },
        {
          "output_type": "stream",
          "name": "stderr",
          "text": [
            "100%|██████████| 9.91M/9.91M [00:00<00:00, 11.5MB/s]\n"
          ]
        },
        {
          "output_type": "stream",
          "name": "stdout",
          "text": [
            "Extracting ./data/MNIST/raw/train-images-idx3-ubyte.gz to ./data/MNIST/raw\n",
            "\n",
            "Downloading http://yann.lecun.com/exdb/mnist/train-labels-idx1-ubyte.gz\n",
            "Failed to download (trying next):\n",
            "HTTP Error 403: Forbidden\n",
            "\n",
            "Downloading https://ossci-datasets.s3.amazonaws.com/mnist/train-labels-idx1-ubyte.gz\n",
            "Downloading https://ossci-datasets.s3.amazonaws.com/mnist/train-labels-idx1-ubyte.gz to ./data/MNIST/raw/train-labels-idx1-ubyte.gz\n"
          ]
        },
        {
          "output_type": "stream",
          "name": "stderr",
          "text": [
            "100%|██████████| 28.9k/28.9k [00:00<00:00, 372kB/s]\n"
          ]
        },
        {
          "output_type": "stream",
          "name": "stdout",
          "text": [
            "Extracting ./data/MNIST/raw/train-labels-idx1-ubyte.gz to ./data/MNIST/raw\n",
            "\n",
            "Downloading http://yann.lecun.com/exdb/mnist/t10k-images-idx3-ubyte.gz\n",
            "Failed to download (trying next):\n",
            "HTTP Error 403: Forbidden\n",
            "\n",
            "Downloading https://ossci-datasets.s3.amazonaws.com/mnist/t10k-images-idx3-ubyte.gz\n",
            "Downloading https://ossci-datasets.s3.amazonaws.com/mnist/t10k-images-idx3-ubyte.gz to ./data/MNIST/raw/t10k-images-idx3-ubyte.gz\n"
          ]
        },
        {
          "output_type": "stream",
          "name": "stderr",
          "text": [
            "100%|██████████| 1.65M/1.65M [00:00<00:00, 3.23MB/s]\n"
          ]
        },
        {
          "output_type": "stream",
          "name": "stdout",
          "text": [
            "Extracting ./data/MNIST/raw/t10k-images-idx3-ubyte.gz to ./data/MNIST/raw\n",
            "\n",
            "Downloading http://yann.lecun.com/exdb/mnist/t10k-labels-idx1-ubyte.gz\n",
            "Failed to download (trying next):\n",
            "HTTP Error 403: Forbidden\n",
            "\n",
            "Downloading https://ossci-datasets.s3.amazonaws.com/mnist/t10k-labels-idx1-ubyte.gz\n",
            "Downloading https://ossci-datasets.s3.amazonaws.com/mnist/t10k-labels-idx1-ubyte.gz to ./data/MNIST/raw/t10k-labels-idx1-ubyte.gz\n"
          ]
        },
        {
          "output_type": "stream",
          "name": "stderr",
          "text": [
            "100%|██████████| 4.54k/4.54k [00:00<00:00, 11.4MB/s]"
          ]
        },
        {
          "output_type": "stream",
          "name": "stdout",
          "text": [
            "Extracting ./data/MNIST/raw/t10k-labels-idx1-ubyte.gz to ./data/MNIST/raw\n",
            "\n"
          ]
        },
        {
          "output_type": "stream",
          "name": "stderr",
          "text": [
            "\n"
          ]
        }
      ],
      "source": [
        "# Create training data\n",
        "train_data = datasets.MNIST(root='./data', train=True, download=True, transform=transform)"
      ]
    },
    {
      "cell_type": "code",
      "execution_count": 6,
      "metadata": {
        "id": "s_o4csvxe7p6"
      },
      "outputs": [],
      "source": [
        "# Create test data\n",
        "test_data = datasets.MNIST(root='./data', train=False, download=True, transform=transform)"
      ]
    },
    {
      "cell_type": "code",
      "execution_count": 15,
      "metadata": {
        "id": "lfUBkLXGe7p7"
      },
      "outputs": [],
      "source": [
        "# Params\n",
        "filter = True\n",
        "if filter:\n",
        "    filtered_class = 5\n",
        "\n",
        "load_model = False"
      ]
    },
    {
      "cell_type": "code",
      "execution_count": 16,
      "metadata": {
        "id": "UAXPzaTse7p7"
      },
      "outputs": [],
      "source": [
        "# Remove the class 5 from the data\n",
        "if filter:\n",
        "    filtered_indices = [i for i, (_,label) in enumerate(train_data) if label!=5]\n",
        "    train_data_filtered = torch.utils.data.Subset(train_data, filtered_indices)\n",
        "else:\n",
        "    train_data_filtered = train_data"
      ]
    },
    {
      "cell_type": "code",
      "execution_count": 17,
      "metadata": {
        "id": "Sxy4vhhne7p7"
      },
      "outputs": [],
      "source": [
        "# Create small batch size for images\n",
        "train_loader = DataLoader(train_data_filtered, batch_size=10, shuffle=True)\n",
        "test_loader = DataLoader(test_data, batch_size=10, shuffle=False)"
      ]
    },
    {
      "cell_type": "code",
      "execution_count": 18,
      "metadata": {
        "id": "3c9nZXYye7p8"
      },
      "outputs": [],
      "source": [
        "#Define the Model class\n",
        "class ConvolutionalNetwork(nn.Module):\n",
        "    def __init__(self):\n",
        "        super().__init__()\n",
        "\n",
        "        # Bayesian Convolutional Layers\n",
        "        self.conv1 = bnn.BayesConv2d(prior_mu=0, prior_sigma=0.1, in_channels=1, out_channels=6, kernel_size=3, stride=1)\n",
        "        self.conv2 = bnn.BayesConv2d(prior_mu=0, prior_sigma=0.1, in_channels=6, out_channels=16, kernel_size=3, stride=1)\n",
        "\n",
        "        # Bayesian Fully Connected Layers\n",
        "        self.fc1 = bnn.BayesLinear(prior_mu=0, prior_sigma=0.1, in_features=16*5*5, out_features=120)      #16 filters, 5x5 size of each output \"image\" in the conv2 layer\n",
        "        self.fc2 = bnn.BayesLinear(prior_mu=0, prior_sigma=0.1, in_features=120, out_features=84)\n",
        "        self.fc3 = bnn.BayesLinear(prior_mu=0, prior_sigma=0.1, in_features=84, out_features=10)\n",
        "\n",
        "    def forward(self, X):\n",
        "        # Pass through convolutional and pooling layers with ReLU activation\n",
        "        X = F.relu(self.conv1(X))\n",
        "        X = F.max_pool2d(X, 2,2)  #kernel = 2x2, stride = 2\n",
        "        X = F.relu(self.conv2(X))\n",
        "        X = F.max_pool2d(X,2,2)\n",
        "\n",
        "        # Flatten out the data\n",
        "        X = X.view(-1, 16*5*5)      # -1 so that we can vary the batch size\n",
        "\n",
        "        # Pass through the fully connected layers\n",
        "        X = F.relu(self.fc1(X))\n",
        "        X = F.relu(self.fc2(X))\n",
        "        X = self.fc3(X)\n",
        "\n",
        "        return F.log_softmax(X, dim=1)\n"
      ]
    },
    {
      "cell_type": "code",
      "execution_count": 19,
      "metadata": {
        "id": "_SU9JUF-e7p9"
      },
      "outputs": [],
      "source": [
        "# Create an instance of the model\n",
        "torch.manual_seed(41)\n",
        "model = ConvolutionalNetwork()"
      ]
    },
    {
      "cell_type": "code",
      "execution_count": 20,
      "metadata": {
        "colab": {
          "base_uri": "https://localhost:8080/"
        },
        "id": "mHxb0oA8h-iz",
        "outputId": "eb1b8272-8647-4486-d334-6566d11aaec7"
      },
      "outputs": [
        {
          "output_type": "execute_result",
          "data": {
            "text/plain": [
              "ConvolutionalNetwork(\n",
              "  (conv1): BayesConv2d(0, 0.1, 1, 6, kernel_size=(3, 3), stride=(1, 1))\n",
              "  (conv2): BayesConv2d(0, 0.1, 6, 16, kernel_size=(3, 3), stride=(1, 1))\n",
              "  (fc1): BayesLinear(prior_mu=0, prior_sigma=0.1, in_features=400, out_features=120, bias=True)\n",
              "  (fc2): BayesLinear(prior_mu=0, prior_sigma=0.1, in_features=120, out_features=84, bias=True)\n",
              "  (fc3): BayesLinear(prior_mu=0, prior_sigma=0.1, in_features=84, out_features=10, bias=True)\n",
              ")"
            ]
          },
          "metadata": {},
          "execution_count": 20
        }
      ],
      "source": [
        "# Move the model to the cuda device\n",
        "device = torch.device(\"cuda\" if torch.cuda.is_available() else \"cpu\")\n",
        "model.to(device)"
      ]
    },
    {
      "cell_type": "code",
      "execution_count": 21,
      "metadata": {
        "id": "BGDFEAIFe7p-"
      },
      "outputs": [],
      "source": [
        "# Select loss function and optimizer\n",
        "ce_loss = nn.CrossEntropyLoss()\n",
        "kl_loss = bnn.BKLLoss(reduction='mean', last_layer_only=False)\n",
        "kl_weight=0.1\n",
        "optimizer = torch.optim.Adam(model.parameters(), lr=0.01)"
      ]
    },
    {
      "cell_type": "code",
      "execution_count": 22,
      "metadata": {
        "colab": {
          "base_uri": "https://localhost:8080/"
        },
        "id": "VAXRNJyZe7p-",
        "outputId": "317e8d48-7977-4d18-efbc-ebcb326ed976"
      },
      "outputs": [
        {
          "output_type": "stream",
          "name": "stdout",
          "text": [
            "Epoch = 0 Batch = 600 Loss = 1.1889870166778564\n",
            "Allocated memory: 18.6298828125 MB\n",
            "Cached memory: 26.0 MB\n",
            "Epoch = 0 Batch = 1200 Loss = 0.21845793724060059\n",
            "Allocated memory: 18.6298828125 MB\n",
            "Cached memory: 26.0 MB\n",
            "Epoch = 0 Batch = 1800 Loss = 0.45411989092826843\n",
            "Allocated memory: 18.6298828125 MB\n",
            "Cached memory: 26.0 MB\n",
            "Epoch = 0 Batch = 2400 Loss = 0.10164479166269302\n",
            "Allocated memory: 18.6298828125 MB\n",
            "Cached memory: 26.0 MB\n",
            "Epoch = 0 Batch = 3000 Loss = 0.26793596148490906\n",
            "Allocated memory: 18.6298828125 MB\n",
            "Cached memory: 26.0 MB\n",
            "Epoch = 0 Batch = 3600 Loss = 0.4561815857887268\n",
            "Allocated memory: 18.6298828125 MB\n",
            "Cached memory: 26.0 MB\n",
            "Epoch = 0 Batch = 4200 Loss = 0.15426002442836761\n",
            "Allocated memory: 18.6298828125 MB\n",
            "Cached memory: 26.0 MB\n",
            "Epoch = 0 Batch = 4800 Loss = 0.23569923639297485\n",
            "Allocated memory: 18.6298828125 MB\n",
            "Cached memory: 26.0 MB\n",
            "Epoch = 0 Batch = 5400 Loss = 0.5428993701934814\n",
            "Allocated memory: 18.6298828125 MB\n",
            "Cached memory: 26.0 MB\n",
            "Epoch = 1 Batch = 600 Loss = 0.37717702984809875\n",
            "Allocated memory: 18.6298828125 MB\n",
            "Cached memory: 26.0 MB\n",
            "Epoch = 1 Batch = 1200 Loss = 0.11230748891830444\n",
            "Allocated memory: 18.6298828125 MB\n",
            "Cached memory: 26.0 MB\n",
            "Epoch = 1 Batch = 1800 Loss = 0.2454843819141388\n",
            "Allocated memory: 18.6298828125 MB\n",
            "Cached memory: 26.0 MB\n",
            "Epoch = 1 Batch = 2400 Loss = 0.33045774698257446\n",
            "Allocated memory: 18.6298828125 MB\n",
            "Cached memory: 26.0 MB\n",
            "Epoch = 1 Batch = 3000 Loss = 0.4181601107120514\n",
            "Allocated memory: 18.6298828125 MB\n",
            "Cached memory: 26.0 MB\n",
            "Epoch = 1 Batch = 3600 Loss = 0.10411039739847183\n",
            "Allocated memory: 18.59716796875 MB\n",
            "Cached memory: 26.0 MB\n",
            "Epoch = 1 Batch = 4200 Loss = 0.49050474166870117\n",
            "Allocated memory: 18.6298828125 MB\n",
            "Cached memory: 26.0 MB\n",
            "Epoch = 1 Batch = 4800 Loss = 0.15819057822227478\n",
            "Allocated memory: 18.6298828125 MB\n",
            "Cached memory: 26.0 MB\n",
            "Epoch = 1 Batch = 5400 Loss = 0.420960932970047\n",
            "Allocated memory: 18.6298828125 MB\n",
            "Cached memory: 26.0 MB\n",
            "Epoch = 2 Batch = 600 Loss = 0.2989497184753418\n",
            "Allocated memory: 18.6298828125 MB\n",
            "Cached memory: 26.0 MB\n",
            "Epoch = 2 Batch = 1200 Loss = 0.18890640139579773\n",
            "Allocated memory: 18.6298828125 MB\n",
            "Cached memory: 26.0 MB\n",
            "Epoch = 2 Batch = 1800 Loss = 0.3720800280570984\n",
            "Allocated memory: 18.6298828125 MB\n",
            "Cached memory: 26.0 MB\n",
            "Epoch = 2 Batch = 2400 Loss = 0.5173155069351196\n",
            "Allocated memory: 18.6298828125 MB\n",
            "Cached memory: 26.0 MB\n",
            "Epoch = 2 Batch = 3000 Loss = 0.19905203580856323\n",
            "Allocated memory: 18.6298828125 MB\n",
            "Cached memory: 26.0 MB\n",
            "Epoch = 2 Batch = 3600 Loss = 0.17167530953884125\n",
            "Allocated memory: 18.6298828125 MB\n",
            "Cached memory: 26.0 MB\n",
            "Epoch = 2 Batch = 4200 Loss = 0.09342882037162781\n",
            "Allocated memory: 18.6298828125 MB\n",
            "Cached memory: 26.0 MB\n",
            "Epoch = 2 Batch = 4800 Loss = 0.12712566554546356\n",
            "Allocated memory: 18.6298828125 MB\n",
            "Cached memory: 26.0 MB\n",
            "Epoch = 2 Batch = 5400 Loss = 0.09448163956403732\n",
            "Allocated memory: 18.6298828125 MB\n",
            "Cached memory: 26.0 MB\n",
            "Epoch = 3 Batch = 600 Loss = 0.19632689654827118\n",
            "Allocated memory: 18.6298828125 MB\n",
            "Cached memory: 26.0 MB\n",
            "Epoch = 3 Batch = 1200 Loss = 0.08571135252714157\n",
            "Allocated memory: 18.6298828125 MB\n",
            "Cached memory: 26.0 MB\n",
            "Epoch = 3 Batch = 1800 Loss = 0.37286612391471863\n",
            "Allocated memory: 18.6298828125 MB\n",
            "Cached memory: 26.0 MB\n",
            "Epoch = 3 Batch = 2400 Loss = 0.18496567010879517\n",
            "Allocated memory: 18.6298828125 MB\n",
            "Cached memory: 26.0 MB\n",
            "Epoch = 3 Batch = 3000 Loss = 0.16028857231140137\n",
            "Allocated memory: 18.6298828125 MB\n",
            "Cached memory: 26.0 MB\n",
            "Epoch = 3 Batch = 3600 Loss = 0.14638477563858032\n",
            "Allocated memory: 18.6298828125 MB\n",
            "Cached memory: 26.0 MB\n",
            "Epoch = 3 Batch = 4200 Loss = 0.3046858012676239\n",
            "Allocated memory: 18.6298828125 MB\n",
            "Cached memory: 26.0 MB\n",
            "Epoch = 3 Batch = 4800 Loss = 0.1150287613272667\n",
            "Allocated memory: 18.6298828125 MB\n",
            "Cached memory: 26.0 MB\n",
            "Epoch = 3 Batch = 5400 Loss = 0.15652263164520264\n",
            "Allocated memory: 18.6298828125 MB\n",
            "Cached memory: 26.0 MB\n",
            "Epoch = 4 Batch = 600 Loss = 0.6508989930152893\n",
            "Allocated memory: 18.6298828125 MB\n",
            "Cached memory: 26.0 MB\n",
            "Epoch = 4 Batch = 1200 Loss = 0.09314260631799698\n",
            "Allocated memory: 18.6298828125 MB\n",
            "Cached memory: 26.0 MB\n",
            "Epoch = 4 Batch = 1800 Loss = 0.2879280745983124\n",
            "Allocated memory: 18.6298828125 MB\n",
            "Cached memory: 26.0 MB\n",
            "Epoch = 4 Batch = 2400 Loss = 0.19518351554870605\n",
            "Allocated memory: 18.6298828125 MB\n",
            "Cached memory: 26.0 MB\n",
            "Epoch = 4 Batch = 3000 Loss = 0.21192124485969543\n",
            "Allocated memory: 18.6298828125 MB\n",
            "Cached memory: 26.0 MB\n",
            "Epoch = 4 Batch = 3600 Loss = 0.17768216133117676\n",
            "Allocated memory: 18.6298828125 MB\n",
            "Cached memory: 26.0 MB\n",
            "Epoch = 4 Batch = 4200 Loss = 0.5085263848304749\n",
            "Allocated memory: 18.6298828125 MB\n",
            "Cached memory: 26.0 MB\n",
            "Epoch = 4 Batch = 4800 Loss = 0.13066327571868896\n",
            "Allocated memory: 18.6298828125 MB\n",
            "Cached memory: 26.0 MB\n",
            "Epoch = 4 Batch = 5400 Loss = 0.26086050271987915\n",
            "Allocated memory: 18.6298828125 MB\n",
            "Cached memory: 26.0 MB\n",
            "- Accuracy: 100.000000 %\n",
            "- CE : 0.19, KL : 0.83\n"
          ]
        }
      ],
      "source": [
        "# Variables to track losses\n",
        "epochs = 5\n",
        "\n",
        "if load_model:\n",
        "    model.load_state_dict(torch.load('mnist_bnn.pt'))\n",
        "\n",
        "else:\n",
        "    #For loop over epochs\n",
        "    for i in range(epochs):\n",
        "        trn_corr = 0\n",
        "        tst_corr = 0\n",
        "\n",
        "        #Train\n",
        "        for b, (X_train, y_train) in enumerate(train_loader):\n",
        "            b+=1                                            #Start the batch at 1\n",
        "\n",
        "            # Move the data and labels to the cuda device, if available\n",
        "            X_train, y_train = X_train.to(device), y_train.to(device)\n",
        "\n",
        "            # Forward pass\n",
        "            y_pred = model(X_train)\n",
        "            ce = ce_loss(y_pred, y_train)\n",
        "            kl = kl_loss(model)\n",
        "            loss = ce+ kl*kl_weight\n",
        "\n",
        "            # Backward pass - update parameters\n",
        "            optimizer.zero_grad()\n",
        "            loss.backward()\n",
        "            optimizer.step()\n",
        "\n",
        "            #Print out some results\n",
        "            if b%600==0:\n",
        "                print(f\"Epoch = {i} Batch = {b} Loss = {loss.item()}\")\n",
        "                print(f\"Allocated memory: {torch.cuda.memory_allocated() / 1024**2} MB\")\n",
        "                print(f\"Cached memory: {torch.cuda.memory_reserved() / 1024**2} MB\")\n",
        "\n",
        "    # Save the model after training\n",
        "    torch.save(model.state_dict(), 'mnist_bnn.pt')\n",
        "\n",
        "    X_test = torch.stack([data[0] for data in train_data])\n",
        "    y_test = torch.LongTensor([data[1] for data in train_data])\n",
        "\n",
        "    _, predicted = torch.max(model(X_train).data, 1)\n",
        "    total = y_train.size(0)\n",
        "    correct = (predicted == y_train).sum()\n",
        "    print('- Accuracy: %f %%' % (100 * float(correct) / total))\n",
        "    print('- CE : %2.2f, KL : %2.2f' % (ce.item(), kl.item()))"
      ]
    },
    {
      "cell_type": "code",
      "execution_count": 43,
      "metadata": {
        "colab": {
          "base_uri": "https://localhost:8080/"
        },
        "id": "4DPR9oZ2e7p_",
        "outputId": "e83c65c5-02b9-4567-d10e-4d4852ed46c6"
      },
      "outputs": [
        {
          "output_type": "stream",
          "name": "stdout",
          "text": [
            "Test accuracy : 85.91999816894531 %\n"
          ]
        }
      ],
      "source": [
        "#Test\n",
        "tst_corr = 0\n",
        "\n",
        "with torch.no_grad():\n",
        "    for b, (X_test, y_test) in enumerate(test_loader):\n",
        "        X_test, y_test = X_test.to(device), y_test.to(device)\n",
        "        y_val = model(X_test)\n",
        "        predicted = torch.max(y_val.data, 1)[1]\n",
        "        batch_corr = (predicted == y_test).sum()\n",
        "        tst_corr += batch_corr\n",
        "\n",
        "print(f\"Test accuracy : {(tst_corr/10000)*100} %\")"
      ]
    },
    {
      "cell_type": "code",
      "execution_count": 44,
      "metadata": {
        "id": "Cjox7nTte7qA"
      },
      "outputs": [],
      "source": [
        "X_test = torch.stack([data[0] for data in test_data])\n",
        "y_test = torch.LongTensor([data[1] for data in test_data])"
      ]
    },
    {
      "cell_type": "code",
      "execution_count": 45,
      "metadata": {
        "colab": {
          "base_uri": "https://localhost:8080/"
        },
        "id": "08Xk8U-Re7qA",
        "outputId": "3b057f9a-f613-4d67-b683-7cd0d65f6b0e"
      },
      "outputs": [
        {
          "output_type": "execute_result",
          "data": {
            "text/plain": [
              "tensor([[   8,   15,   23,   45,   52,   53,   59,  102,  120,  127,  129,  132,\n",
              "          152,  153,  155,  162,  165,  167,  182,  187,  207,  211,  218,  219,\n",
              "          240,  253,  261,  283,  289,  317,  319,  333,  340,  347,  351,  352,\n",
              "          356,  364,  367,  375,  395,  397,  406,  412,  433,  460,  469,  478,\n",
              "          483,  491,  502,  509,  518,  540,  570,  588,  604,  618,  638,  645,\n",
              "          654,  674,  692,  694,  710,  711,  720,  739,  751,  766,  778,  779,\n",
              "          785,  791,  797,  812,  856,  857,  866,  869,  897,  934,  935,  951,\n",
              "          955,  970,  978, 1003, 1022, 1032, 1041, 1046, 1070, 1073, 1082, 1087,\n",
              "         1089, 1102, 1113, 1115, 1131, 1135, 1144, 1146, 1168, 1169, 1190, 1221,\n",
              "         1233, 1235, 1243, 1252, 1258, 1272, 1281, 1285, 1289, 1299, 1331, 1334,\n",
              "         1339, 1340, 1370, 1376, 1378, 1393, 1405, 1406, 1421, 1447, 1460, 1466,\n",
              "         1467, 1471, 1473, 1476, 1493, 1510, 1521, 1525, 1550, 1598, 1618, 1629,\n",
              "         1635, 1637, 1639, 1641, 1653, 1670, 1672, 1677, 1684, 1693, 1737, 1747,\n",
              "         1752, 1755, 1761, 1810, 1833, 1846, 1847, 1860, 1866, 1874, 1879, 1896,\n",
              "         1902, 1910, 1911, 1917, 1931, 1940, 1948, 1954, 1967, 1970, 1999, 2001,\n",
              "         2003, 2021, 2029, 2030, 2035, 2037, 2040, 2064, 2073, 2077, 2078, 2100,\n",
              "         2103, 2113, 2114, 2125, 2134, 2159, 2162, 2180, 2192, 2207, 2214, 2224,\n",
              "         2237, 2241, 2247, 2279, 2282, 2291, 2322, 2339, 2346, 2369, 2400, 2413,\n",
              "         2445, 2452, 2460, 2476, 2487, 2515, 2518, 2525, 2526, 2540, 2545, 2546,\n",
              "         2554, 2556, 2558, 2559, 2569, 2573, 2574, 2581, 2586, 2597, 2604, 2606,\n",
              "         2611, 2616, 2644, 2653, 2668, 2670, 2682, 2686, 2689, 2697, 2698, 2727,\n",
              "         2743, 2768, 2772, 2773, 2775, 2790, 2797, 2798, 2805, 2810, 2814, 2829,\n",
              "         2832, 2839, 2850, 2855, 2903, 2909, 2913, 2919, 2922, 2925, 2930, 2948,\n",
              "         2951, 2956, 2957, 2969, 2970, 2986, 2987, 3007, 3022, 3028, 3053, 3093,\n",
              "         3095, 3100, 3102, 3113, 3115, 3117, 3119, 3127, 3145, 3157, 3171, 3183,\n",
              "         3199, 3220, 3275, 3295, 3311, 3312, 3321, 3334, 3335, 3336, 3345, 3372,\n",
              "         3393, 3408, 3414, 3416, 3462, 3468, 3470, 3506, 3537, 3552, 3556, 3558,\n",
              "         3565, 3569, 3570, 3590, 3591, 3595, 3619, 3623, 3631, 3636, 3645, 3654,\n",
              "         3663, 3678, 3691, 3702, 3750, 3754, 3756, 3763, 3776, 3778, 3788, 3797,\n",
              "         3806, 3810, 3814, 3826, 3837, 3855, 3860, 3863, 3877, 3890, 3893, 3898,\n",
              "         3902, 3907, 3917, 3918, 3928, 3929, 3952, 3955, 3957, 3960, 3968, 3994,\n",
              "         4031, 4052, 4054, 4056, 4059, 4067, 4072, 4076, 4094, 4108, 4118, 4131,\n",
              "         4152, 4177, 4196, 4202, 4219, 4226, 4233, 4236, 4254, 4255, 4261, 4263,\n",
              "         4271, 4300, 4302, 4307, 4310, 4312, 4315, 4323, 4330, 4338, 4340, 4355,\n",
              "         4356, 4359, 4360, 4364, 4368, 4374, 4378, 4381, 4420, 4422, 4440, 4461,\n",
              "         4463, 4472, 4520, 4529, 4548, 4569, 4577, 4583, 4596, 4637, 4645, 4689,\n",
              "         4696, 4711, 4712, 4722, 4728, 4749, 4762, 4763, 4766, 4771, 4809, 4810,\n",
              "         4828, 4830, 4844, 4867, 4888, 4892, 4902, 4915, 4933, 4942, 4971, 4979,\n",
              "         5020, 5021, 5056, 5083, 5098, 5102, 5111, 5134, 5152, 5160, 5170, 5174,\n",
              "         5187, 5194, 5196, 5197, 5206, 5207, 5222, 5223, 5229, 5275, 5285, 5295,\n",
              "         5302, 5325, 5339, 5347, 5351, 5364, 5374, 5389, 5397, 5400, 5410, 5420,\n",
              "         5432, 5445, 5451, 5473, 5480, 5488, 5510, 5518, 5528, 5570, 5571, 5572,\n",
              "         5574, 5579, 5598, 5608, 5618, 5624, 5632, 5633, 5658, 5662, 5668, 5682,\n",
              "         5697, 5706, 5711, 5726, 5735, 5742, 5752, 5769, 5779, 5802, 5807, 5821,\n",
              "         5833, 5843, 5852, 5862, 5867, 5874, 5885, 5891, 5910, 5913, 5922, 5937,\n",
              "         5947, 5957, 5964, 5972, 5981, 5982, 5985, 5997, 6028, 6042, 6043, 6053,\n",
              "         6067, 6077, 6087, 6095, 6120, 6136, 6142, 6146, 6148, 6155, 6165, 6186,\n",
              "         6196, 6206, 6215, 6216, 6227, 6236, 6244, 6257, 6270, 6277, 6282, 6291,\n",
              "         6314, 6324, 6333, 6341, 6368, 6385, 6386, 6390, 6392, 6405, 6414, 6415,\n",
              "         6476, 6483, 6486, 6491, 6500, 6518, 6522, 6525, 6530, 6537, 6544, 6548,\n",
              "         6573, 6598, 6600, 6611, 6620, 6638, 6706, 6716, 6728, 6746, 6775, 6788,\n",
              "         6803, 6813, 6823, 6832, 6860, 6866, 6879, 6880, 6884, 6886, 6899, 6908,\n",
              "         6909, 6932, 6942, 6952, 6964, 6965, 6977, 6981, 6991, 7003, 7018, 7029,\n",
              "         7036, 7057, 7067, 7077, 7090, 7108, 7134, 7142, 7155, 7160, 7178, 7187,\n",
              "         7195, 7240, 7241, 7264, 7274, 7284, 7294, 7304, 7306, 7315, 7324, 7351,\n",
              "         7352, 7372, 7388, 7393, 7397, 7403, 7414, 7430, 7437, 7448, 7451, 7454,\n",
              "         7474, 7475, 7478, 7498, 7511, 7521, 7531, 7541, 7542, 7559, 7577, 7578,\n",
              "         7583, 7602, 7612, 7622, 7630, 7643, 7649, 7659, 7672, 7673, 7676, 7679,\n",
              "         7698, 7715, 7732, 7742, 7752, 7777, 7779, 7793, 7797, 7808, 7809, 7819,\n",
              "         7826, 7842, 7850, 7859, 7870, 7888, 7918, 7938, 7948, 7958, 7965, 7974,\n",
              "         7988, 7996, 7997, 8034, 8035, 8038, 8049, 8062, 8072, 8082, 8089, 8122,\n",
              "         8132, 8142, 8149, 8158, 8160, 8170, 8180, 8185, 8192, 8214, 8224, 8232,\n",
              "         8270, 8275, 8299, 8327, 8331, 8348, 8366, 8386, 8412, 8415, 8444, 8445,\n",
              "         8447, 8453, 8463, 8473, 8487, 8502, 8507, 8531, 8539, 8553, 8563, 8571,\n",
              "         8578, 8601, 8630, 8632, 8643, 8645, 8652, 8653, 8656, 8665, 8676, 8686,\n",
              "         8696, 8702, 8710, 8711, 8737, 8741, 8747, 8761, 8774, 8783, 8788, 8803,\n",
              "         8813, 8823, 8834, 8835, 8847, 8853, 8855, 8863, 8878, 8909, 8940, 8948,\n",
              "         8964, 8982, 8987, 9013, 9035, 9065, 9075, 9085, 9109, 9114, 9117, 9119,\n",
              "         9132, 9133, 9159, 9160, 9176, 9184, 9194, 9228, 9234, 9260, 9268, 9277,\n",
              "         9289, 9290, 9298, 9315, 9329, 9331, 9337, 9338, 9349, 9360, 9372, 9382,\n",
              "         9391, 9398, 9400, 9422, 9427, 9428, 9465, 9478, 9481, 9482, 9493, 9503,\n",
              "         9513, 9523, 9533, 9545, 9583, 9584, 9588, 9590, 9600, 9606, 9616, 9626,\n",
              "         9651, 9671, 9675, 9685, 9702, 9709, 9719, 9729, 9747, 9749, 9754, 9770,\n",
              "         9777, 9786, 9814, 9830, 9831, 9841, 9853, 9870, 9877, 9883, 9907, 9941,\n",
              "         9970, 9982, 9988, 9998]])"
            ]
          },
          "metadata": {},
          "execution_count": 45
        }
      ],
      "source": [
        "torch.argwhere(y_test==5).T"
      ]
    },
    {
      "cell_type": "code",
      "execution_count": 61,
      "metadata": {
        "id": "5n0ly5Dte7qA"
      },
      "outputs": [],
      "source": [
        "n_models = 100\n",
        "X_test = X_test.to(device)\n",
        "models_result = [model(X_test[3115]) for k in range(n_models)]"
      ]
    },
    {
      "cell_type": "code",
      "execution_count": 62,
      "metadata": {
        "colab": {
          "base_uri": "https://localhost:8080/"
        },
        "id": "DckHBC3plA4S",
        "outputId": "b131f2aa-e13a-40a5-cd03-67d3d07b78bd"
      },
      "outputs": [
        {
          "output_type": "execute_result",
          "data": {
            "text/plain": [
              "3"
            ]
          },
          "metadata": {},
          "execution_count": 62
        }
      ],
      "source": [
        "models_result[0].argmax().item()"
      ]
    },
    {
      "cell_type": "code",
      "execution_count": 63,
      "metadata": {
        "id": "dpY9h1vEe7qA"
      },
      "outputs": [],
      "source": [
        "results = np.zeros(n_models)\n",
        "for i in range(n_models):\n",
        "  results[i] = models_result[i].argmax().item()"
      ]
    },
    {
      "cell_type": "code",
      "execution_count": 64,
      "metadata": {
        "colab": {
          "base_uri": "https://localhost:8080/"
        },
        "id": "vhY9snmylZ4X",
        "outputId": "18e1d9f0-a382-4fc8-f5da-2943f118e51f"
      },
      "outputs": [
        {
          "output_type": "execute_result",
          "data": {
            "text/plain": [
              "array([3., 3., 3., 3., 3., 3., 3., 3., 3., 3., 3., 3., 3., 3., 3., 3., 3.,\n",
              "       3., 3., 3., 3., 3., 3., 3., 3., 3., 3., 3., 3., 3., 3., 3., 3., 3.,\n",
              "       3., 3., 3., 3., 3., 3., 3., 3., 3., 3., 3., 3., 3., 3., 3., 3., 3.,\n",
              "       3., 3., 3., 3., 3., 3., 3., 3., 3., 3., 3., 3., 3., 3., 3., 3., 3.,\n",
              "       3., 3., 3., 3., 3., 3., 3., 3., 3., 3., 3., 3., 3., 3., 3., 3., 3.,\n",
              "       3., 3., 3., 3., 3., 3., 3., 3., 3., 3., 3., 3., 3., 3., 3.])"
            ]
          },
          "metadata": {},
          "execution_count": 64
        }
      ],
      "source": [
        "results"
      ]
    },
    {
      "cell_type": "code",
      "execution_count": 65,
      "metadata": {
        "colab": {
          "base_uri": "https://localhost:8080/",
          "height": 430
        },
        "id": "nBnA83HDlbry",
        "outputId": "95fef0c8-4321-47ba-c40d-bbbabd858dfa"
      },
      "outputs": [
        {
          "output_type": "display_data",
          "data": {
            "text/plain": [
              "<Figure size 640x480 with 1 Axes>"
            ],
            "image/png": "[encoded data removed]"
          },
          "metadata": {}
        }
      ],
      "source": [
        "plt.hist(results, bins=[0,1,2,3,4,5,6,7,8,9], align='mid')\n",
        "plt.xticks([0,1,2,3,4,5,6,7,8,9], ha='center')\n",
        "plt.show()"
      ]
    },
    {
      "cell_type": "code",
      "execution_count": 80,
      "metadata": {
        "id": "tXGsef0ioESM"
      },
      "outputs": [],
      "source": [
        "# Create slice of test dataset that contains only the filteredClass\n",
        "if filter:\n",
        "    filtered_indices = [i for i, (_,label) in enumerate(test_data) if label==5]\n",
        "    test_data_filtered_unseen = torch.utils.data.Subset(test_data, filtered_indices)"
      ]
    },
    {
      "cell_type": "code",
      "execution_count": 81,
      "metadata": {
        "colab": {
          "base_uri": "https://localhost:8080/"
        },
        "id": "Wgl-jMjSuHfM",
        "outputId": "39e60afd-e0b2-4a2e-ce10-403a145e306b"
      },
      "outputs": [
        {
          "output_type": "execute_result",
          "data": {
            "text/plain": [
              "<torch.utils.data.dataset.Subset at 0x796f9d9ab220>"
            ]
          },
          "metadata": {},
          "execution_count": 81
        }
      ],
      "source": [
        "test_data_filtered_unseen"
      ]
    },
    {
      "cell_type": "code",
      "execution_count": 82,
      "metadata": {
        "id": "f_tlpMCfuKPD"
      },
      "outputs": [],
      "source": [
        "test_filt_loader = DataLoader(test_data_filtered_unseen, batch_size = len(test_data_filtered_unseen))\n",
        "\n",
        "images, labels = next(iter(test_filt_loader))\n",
        "images, labels = images.to(device), labels.to(device)"
      ]
    },
    {
      "cell_type": "code",
      "execution_count": 83,
      "metadata": {
        "colab": {
          "base_uri": "https://localhost:8080/"
        },
        "id": "3wMR731cuhWW",
        "outputId": "95cc1cde-a41a-4fef-8a66-84a20b03f9d9"
      },
      "outputs": [
        {
          "output_type": "stream",
          "name": "stdout",
          "text": [
            " \tTest run 100/100"
          ]
        }
      ],
      "source": [
        "samples = torch.zeros((n_models, len(test_data_filtered_unseen), 10))\n",
        "\n",
        "for i in range(n_models) :\n",
        "  print(\"\\r\", \"\\tTest run {}/{}\".format(i+1, n_models), end=\"\")\n",
        "\n",
        "  samples[i,:,:] = torch.exp(model(images))"
      ]
    },
    {
      "cell_type": "code",
      "execution_count": 84,
      "metadata": {
        "colab": {
          "base_uri": "https://localhost:8080/"
        },
        "id": "JPvoWgg0usF_",
        "outputId": "8b9e0e85-0192-4cba-e4dc-d8ee42adfd73"
      },
      "outputs": [
        {
          "output_type": "stream",
          "name": "stdout",
          "text": [
            "\n",
            "Class prediction analysis:\n",
            "\tMean class probabilities:\n",
            "tensor([0.0167, 0.0106, 0.0103, 0.4560, 0.0117, 0.0007, 0.0798, 0.0112, 0.3398,\n",
            "        0.0631], grad_fn=<MeanBackward1>)\n",
            "\tPrediction standard deviation per sample:\n",
            "tensor([0.0183, 0.0150, 0.0071, 0.0769, 0.0147, 0.0007, 0.0463, 0.0116, 0.0698,\n",
            "        0.0365], grad_fn=<SqrtBackward0>)\n",
            "\tPrediction standard deviation across samples:\n",
            "tensor([0.0797, 0.0505, 0.0370, 0.3774, 0.0539, 0.0017, 0.2048, 0.0510, 0.3351,\n",
            "        0.1777], grad_fn=<StdBackward0>)\n"
          ]
        }
      ],
      "source": [
        "withinSampleMean = torch.mean(samples, dim=0)\n",
        "samplesMean = torch.mean(samples, dim=(0,1))\n",
        "\n",
        "withinSampleStd = torch.sqrt(torch.mean(torch.var(samples, dim=0), dim=0))\n",
        "acrossSamplesStd = torch.std(withinSampleMean, dim=0)\n",
        "\n",
        "print(\"\")\n",
        "print(\"Class prediction analysis:\")\n",
        "print(\"\\tMean class probabilities:\")\n",
        "print(samplesMean)\n",
        "print(\"\\tPrediction standard deviation per sample:\")\n",
        "print(withinSampleStd)\n",
        "print(\"\\tPrediction standard deviation across samples:\")\n",
        "print(acrossSamplesStd)"
      ]
    },
    {
      "cell_type": "code",
      "execution_count": 85,
      "metadata": {
        "colab": {
          "base_uri": "https://localhost:8080/",
          "height": 455
        },
        "id": "QiyVC0f8vOWH",
        "outputId": "be0ed944-aea3-4f59-b75b-6f76408a41d9"
      },
      "outputs": [
        {
          "output_type": "display_data",
          "data": {
            "text/plain": [
              "<Figure size 640x480 with 1 Axes>"
            ],
            "image/png": "[encoded data removed]"
          },
          "metadata": {}
        }
      ],
      "source": [
        "plt.figure(\"Unseen class probabilities\")\n",
        "plt.bar(np.arange(10), samplesMean.detach().numpy())\n",
        "plt.xlabel('digits')\n",
        "plt.ylabel('digit prob')\n",
        "plt.ylim([0,1])\n",
        "plt.xticks(np.arange(10))\n",
        "plt.show()"
      ]
    },
    {
      "cell_type": "code",
      "execution_count": 86,
      "metadata": {
        "colab": {
          "base_uri": "https://localhost:8080/",
          "height": 449
        },
        "id": "HJt6EdZdvRIw",
        "outputId": "75758f2f-5420-4f08-e43e-ec562558bc3d"
      },
      "outputs": [
        {
          "output_type": "display_data",
          "data": {
            "text/plain": [
              "<Figure size 640x480 with 1 Axes>"
            ],
            "image/png": "[encoded data removed]"
          },
          "metadata": {}
        }
      ],
      "source": [
        "plt.figure(\"Unseen inner and outter sample std\")\n",
        "plt.bar(np.arange(10)-0.2, withinSampleStd.detach().numpy(), width = 0.4, label=\"Within sample\")\n",
        "plt.bar(np.arange(10)+0.2, acrossSamplesStd.detach().numpy(), width = 0.4, label=\"Across samples\")\n",
        "plt.legend()\n",
        "plt.xlabel('digits')\n",
        "plt.ylabel('std digit prob')\n",
        "plt.xticks(np.arange(10))\n",
        "plt.show()"
      ]
    },
    {
      "cell_type": "code",
      "source": [
        "fig, axs = plt.subplots(1, 2, figsize=(9, 4.5))\n",
        "axs[0].grid()\n",
        "axs[0].bar(np.arange(10), samplesMean.detach().numpy())\n",
        "axs[0].set(xlabel='Digit', ylabel='Digit Probability', xticks=np.arange(10))\n",
        "axs[1].grid()\n",
        "axs[1].bar(np.arange(10)-0.2, withinSampleStd.detach().numpy(), width = 0.4, label=\"Within sample\")\n",
        "axs[1].bar(np.arange(10)+0.2, acrossSamplesStd.detach().numpy(), width = 0.4, label=\"Across samples\")\n",
        "axs[1].legend()\n",
        "axs[1].set(xlabel='Digit', ylabel='Standard Deviation', xticks=np.arange(10))\n",
        "fig.suptitle('Unseen Digit Probabilites and Standard Deviation')\n",
        "fig.tight_layout()\n",
        "plt.savefig('unseen_digits.pdf')\n",
        "plt.show()"
      ],
      "metadata": {
        "id": "LEGv4QwG4sg7",
        "outputId": "5501ab45-8b23-4f51-bdcf-521ca239d0e0",
        "colab": {
          "base_uri": "https://localhost:8080/",
          "height": 463
        }
      },
      "execution_count": 87,
      "outputs": [
        {
          "output_type": "display_data",
          "data": {
            "text/plain": [
              "<Figure size 900x450 with 2 Axes>"
            ],
            "image/png": "[encoded data removed]"
          },
          "metadata": {}
        }
      ]
    },
    {
      "cell_type": "markdown",
      "metadata": {
        "id": "qodP_XdgvsR-"
      },
      "source": [
        "## Testing against seen class"
      ]
    },
    {
      "cell_type": "code",
      "execution_count": 88,
      "metadata": {
        "id": "0q8pBs9RvrOe"
      },
      "outputs": [],
      "source": [
        "# Create slice of test dataset that contains only the seen class (here, say 2)\n",
        "\n",
        "filtered_indices = [i for i, (_,label) in enumerate(test_data) if label==2]\n",
        "test_data_filtered_seen = torch.utils.data.Subset(test_data, filtered_indices)\n",
        "\n",
        "test_filt_loader = DataLoader(test_data_filtered_seen, batch_size = len(test_data_filtered_seen))\n",
        "\n",
        "images, labels = next(iter(test_filt_loader))\n",
        "images, labels = images.to(device), labels.to(device)"
      ]
    },
    {
      "cell_type": "code",
      "execution_count": 89,
      "metadata": {
        "colab": {
          "base_uri": "https://localhost:8080/"
        },
        "id": "UWWSWzYBwGti",
        "outputId": "773e0654-2808-4ed3-9a99-acddb531eba3"
      },
      "outputs": [
        {
          "output_type": "stream",
          "name": "stdout",
          "text": [
            " \tTest run 100/100"
          ]
        }
      ],
      "source": [
        "samples = torch.zeros((n_models, len(test_data_filtered_seen), 10))\n",
        "\n",
        "for i in range(n_models) :\n",
        "  print(\"\\r\", \"\\tTest run {}/{}\".format(i+1, n_models), end=\"\")\n",
        "\n",
        "  samples[i,:,:] = torch.exp(model(images))"
      ]
    },
    {
      "cell_type": "code",
      "execution_count": 90,
      "metadata": {
        "colab": {
          "base_uri": "https://localhost:8080/"
        },
        "id": "KzPS1Yx_wTwq",
        "outputId": "d2330a52-7dd2-4b45-fd18-03c24d49533e"
      },
      "outputs": [
        {
          "output_type": "stream",
          "name": "stdout",
          "text": [
            "\n",
            "Class prediction analysis:\n",
            "\tMean class probabilities:\n",
            "tensor([1.2891e-03, 4.4632e-03, 9.3373e-01, 2.1443e-02, 6.4720e-03, 5.4714e-05,\n",
            "        5.9306e-03, 6.9844e-03, 1.8293e-02, 1.3434e-03],\n",
            "       grad_fn=<MeanBackward1>)\n",
            "\tPrediction standard deviation per sample:\n",
            "tensor([0.0062, 0.0075, 0.0382, 0.0233, 0.0176, 0.0001, 0.0129, 0.0141, 0.0196,\n",
            "        0.0054], grad_fn=<SqrtBackward0>)\n",
            "\tPrediction standard deviation across samples:\n",
            "tensor([0.0178, 0.0480, 0.1803, 0.0865, 0.0420, 0.0003, 0.0621, 0.0525, 0.0833,\n",
            "        0.0248], grad_fn=<StdBackward0>)\n"
          ]
        }
      ],
      "source": [
        "withinSampleMean = torch.mean(samples, dim=0)\n",
        "samplesMean = torch.mean(samples, dim=(0,1))\n",
        "\n",
        "withinSampleStd = torch.sqrt(torch.mean(torch.var(samples, dim=0), dim=0))\n",
        "acrossSamplesStd = torch.std(withinSampleMean, dim=0)\n",
        "\n",
        "print(\"\")\n",
        "print(\"Class prediction analysis:\")\n",
        "print(\"\\tMean class probabilities:\")\n",
        "print(samplesMean)\n",
        "print(\"\\tPrediction standard deviation per sample:\")\n",
        "print(withinSampleStd)\n",
        "print(\"\\tPrediction standard deviation across samples:\")\n",
        "print(acrossSamplesStd)"
      ]
    },
    {
      "cell_type": "code",
      "execution_count": 91,
      "metadata": {
        "colab": {
          "base_uri": "https://localhost:8080/",
          "height": 455
        },
        "id": "MfII0RySwZus",
        "outputId": "deb4ef1d-c1ee-40f8-a121-cffe350dff5a"
      },
      "outputs": [
        {
          "output_type": "display_data",
          "data": {
            "text/plain": [
              "<Figure size 640x480 with 1 Axes>"
            ],
            "image/png": "[encoded data removed]"
          },
          "metadata": {}
        }
      ],
      "source": [
        "plt.figure(\"Seen class probabilities\")\n",
        "plt.bar(np.arange(10), samplesMean.detach().numpy())\n",
        "plt.xlabel('digits')\n",
        "plt.ylabel('digit prob')\n",
        "plt.ylim([0,1])\n",
        "plt.xticks(np.arange(10))\n",
        "plt.show()"
      ]
    },
    {
      "cell_type": "code",
      "execution_count": 92,
      "metadata": {
        "colab": {
          "base_uri": "https://localhost:8080/",
          "height": 449
        },
        "id": "hMZnrhBawgKz",
        "outputId": "79e05157-44b8-4a6c-f5bb-8a5e1febd0c2"
      },
      "outputs": [
        {
          "output_type": "display_data",
          "data": {
            "text/plain": [
              "<Figure size 640x480 with 1 Axes>"
            ],
            "image/png": "[encoded data removed]"
          },
          "metadata": {}
        }
      ],
      "source": [
        "plt.figure(\"Seen inner and outter sample std\")\n",
        "plt.bar(np.arange(10)-0.2, withinSampleStd.detach().numpy(), width = 0.4, label=\"Within sample\")\n",
        "plt.bar(np.arange(10)+0.2, acrossSamplesStd.detach().numpy(), width = 0.4, label=\"Across samples\")\n",
        "plt.legend()\n",
        "plt.xlabel('digits')\n",
        "plt.ylabel('std digit prob')\n",
        "plt.xticks(np.arange(10))\n",
        "plt.show()"
      ]
    },
    {
      "cell_type": "code",
      "source": [
        "fig, axs = plt.subplots(1, 2, figsize=(9, 4.5))\n",
        "axs[0].grid()\n",
        "axs[0].bar(np.arange(10), samplesMean.detach().numpy())\n",
        "axs[0].set(xlabel='Digit', ylabel='Digit Probability', xticks=np.arange(10))\n",
        "axs[1].grid()\n",
        "axs[1].bar(np.arange(10)-0.2, withinSampleStd.detach().numpy(), width = 0.4, label=\"Within sample\")\n",
        "axs[1].bar(np.arange(10)+0.2, acrossSamplesStd.detach().numpy(), width = 0.4, label=\"Across samples\")\n",
        "axs[1].legend()\n",
        "axs[1].set(xlabel='Digit', ylabel='Standard Deviation', xticks=np.arange(10))\n",
        "fig.suptitle('Seen Digit Probabilites and Standard Deviation')\n",
        "fig.tight_layout()\n",
        "plt.savefig('seen_digits.pdf')\n",
        "plt.show()"
      ],
      "metadata": {
        "id": "juAHsMTL5aVN",
        "outputId": "0d3ed15d-37c1-458c-fe44-e667506a6319",
        "colab": {
          "base_uri": "https://localhost:8080/",
          "height": 463
        }
      },
      "execution_count": 93,
      "outputs": [
        {
          "output_type": "display_data",
          "data": {
            "text/plain": [
              "<Figure size 900x450 with 2 Axes>"
            ],
            "image/png": "[encoded data removed]"
          },
          "metadata": {}
        }
      ]
    }
  ],
  "metadata": {
    "accelerator": "GPU",
    "colab": {
      "gpuType": "T4",
      "provenance": [],
      "include_colab_link": true
    },
    "kernelspec": {
      "display_name": "base",
      "language": "python",
      "name": "python3"
    },
    "language_info": {
      "codemirror_mode": {
        "name": "ipython",
        "version": 3
      },
      "file_extension": ".py",
      "mimetype": "text/x-python",
      "name": "python",
      "nbconvert_exporter": "python",
      "pygments_lexer": "ipython3",
      "version": "3.12.1"
    }
  },
  "nbformat": 4,
  "nbformat_minor": 0
}