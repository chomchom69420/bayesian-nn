{
  "cells": [
    {
      "cell_type": "markdown",
      "metadata": {
        "id": "mL_hLNmLU7Pp"
      },
      "source": [
        "# Bayesian Neural Network Classification on IRIS dataset"
      ]
    },
    {
      "cell_type": "code",
      "source": [
        "!pip install torchbnn"
      ],
      "metadata": {
        "id": "5qhLkmMinjtT",
        "outputId": "ba5dbbbf-4f7c-4159-efb8-9fe631e6c435",
        "colab": {
          "base_uri": "https://localhost:8080/"
        }
      },
      "execution_count": 1,
      "outputs": [
        {
          "output_type": "stream",
          "name": "stdout",
          "text": [
            "Collecting torchbnn\n",
            "  Downloading torchbnn-1.2-py3-none-any.whl.metadata (7.1 kB)\n",
            "Downloading torchbnn-1.2-py3-none-any.whl (12 kB)\n",
            "Installing collected packages: torchbnn\n",
            "Successfully installed torchbnn-1.2\n"
          ]
        }
      ]
    },
    {
      "cell_type": "code",
      "execution_count": 2,
      "metadata": {
        "id": "IT-bhQ-MU7Pt"
      },
      "outputs": [],
      "source": [
        "import numpy as np\n",
        "from sklearn import datasets\n",
        "import torch\n",
        "import torch.nn as nn\n",
        "import torch.optim as optim\n",
        "import torchbnn as bnn"
      ]
    },
    {
      "cell_type": "code",
      "execution_count": 3,
      "metadata": {
        "id": "S3iuAAoxU7Pv"
      },
      "outputs": [],
      "source": [
        "import matplotlib.pyplot as plt\n",
        "%matplotlib inline"
      ]
    },
    {
      "cell_type": "markdown",
      "metadata": {
        "id": "k7JK77HzU7Pw"
      },
      "source": [
        "## 1. Load Iris Data"
      ]
    },
    {
      "cell_type": "code",
      "execution_count": 4,
      "metadata": {
        "id": "N6PRnehwU7Px"
      },
      "outputs": [],
      "source": [
        "iris = datasets.load_iris()"
      ]
    },
    {
      "cell_type": "code",
      "execution_count": 5,
      "metadata": {
        "id": "VYTZh3c5U7Px"
      },
      "outputs": [],
      "source": [
        "X = iris.data\n",
        "Y = iris.target"
      ]
    },
    {
      "cell_type": "code",
      "execution_count": 6,
      "metadata": {
        "colab": {
          "base_uri": "https://localhost:8080/"
        },
        "id": "ouyLoooYU7Py",
        "outputId": "b6343f4f-99b5-4999-cc19-e645bf10f8a9"
      },
      "outputs": [
        {
          "output_type": "execute_result",
          "data": {
            "text/plain": [
              "array([[5.1, 3.5, 1.4, 0.2],\n",
              "       [4.9, 3. , 1.4, 0.2],\n",
              "       [4.7, 3.2, 1.3, 0.2],\n",
              "       [4.6, 3.1, 1.5, 0.2],\n",
              "       [5. , 3.6, 1.4, 0.2],\n",
              "       [5.4, 3.9, 1.7, 0.4],\n",
              "       [4.6, 3.4, 1.4, 0.3],\n",
              "       [5. , 3.4, 1.5, 0.2],\n",
              "       [4.4, 2.9, 1.4, 0.2],\n",
              "       [4.9, 3.1, 1.5, 0.1],\n",
              "       [5.4, 3.7, 1.5, 0.2],\n",
              "       [4.8, 3.4, 1.6, 0.2],\n",
              "       [4.8, 3. , 1.4, 0.1],\n",
              "       [4.3, 3. , 1.1, 0.1],\n",
              "       [5.8, 4. , 1.2, 0.2],\n",
              "       [5.7, 4.4, 1.5, 0.4],\n",
              "       [5.4, 3.9, 1.3, 0.4],\n",
              "       [5.1, 3.5, 1.4, 0.3],\n",
              "       [5.7, 3.8, 1.7, 0.3],\n",
              "       [5.1, 3.8, 1.5, 0.3],\n",
              "       [5.4, 3.4, 1.7, 0.2],\n",
              "       [5.1, 3.7, 1.5, 0.4],\n",
              "       [4.6, 3.6, 1. , 0.2],\n",
              "       [5.1, 3.3, 1.7, 0.5],\n",
              "       [4.8, 3.4, 1.9, 0.2],\n",
              "       [5. , 3. , 1.6, 0.2],\n",
              "       [5. , 3.4, 1.6, 0.4],\n",
              "       [5.2, 3.5, 1.5, 0.2],\n",
              "       [5.2, 3.4, 1.4, 0.2],\n",
              "       [4.7, 3.2, 1.6, 0.2],\n",
              "       [4.8, 3.1, 1.6, 0.2],\n",
              "       [5.4, 3.4, 1.5, 0.4],\n",
              "       [5.2, 4.1, 1.5, 0.1],\n",
              "       [5.5, 4.2, 1.4, 0.2],\n",
              "       [4.9, 3.1, 1.5, 0.2],\n",
              "       [5. , 3.2, 1.2, 0.2],\n",
              "       [5.5, 3.5, 1.3, 0.2],\n",
              "       [4.9, 3.6, 1.4, 0.1],\n",
              "       [4.4, 3. , 1.3, 0.2],\n",
              "       [5.1, 3.4, 1.5, 0.2],\n",
              "       [5. , 3.5, 1.3, 0.3],\n",
              "       [4.5, 2.3, 1.3, 0.3],\n",
              "       [4.4, 3.2, 1.3, 0.2],\n",
              "       [5. , 3.5, 1.6, 0.6],\n",
              "       [5.1, 3.8, 1.9, 0.4],\n",
              "       [4.8, 3. , 1.4, 0.3],\n",
              "       [5.1, 3.8, 1.6, 0.2],\n",
              "       [4.6, 3.2, 1.4, 0.2],\n",
              "       [5.3, 3.7, 1.5, 0.2],\n",
              "       [5. , 3.3, 1.4, 0.2],\n",
              "       [7. , 3.2, 4.7, 1.4],\n",
              "       [6.4, 3.2, 4.5, 1.5],\n",
              "       [6.9, 3.1, 4.9, 1.5],\n",
              "       [5.5, 2.3, 4. , 1.3],\n",
              "       [6.5, 2.8, 4.6, 1.5],\n",
              "       [5.7, 2.8, 4.5, 1.3],\n",
              "       [6.3, 3.3, 4.7, 1.6],\n",
              "       [4.9, 2.4, 3.3, 1. ],\n",
              "       [6.6, 2.9, 4.6, 1.3],\n",
              "       [5.2, 2.7, 3.9, 1.4],\n",
              "       [5. , 2. , 3.5, 1. ],\n",
              "       [5.9, 3. , 4.2, 1.5],\n",
              "       [6. , 2.2, 4. , 1. ],\n",
              "       [6.1, 2.9, 4.7, 1.4],\n",
              "       [5.6, 2.9, 3.6, 1.3],\n",
              "       [6.7, 3.1, 4.4, 1.4],\n",
              "       [5.6, 3. , 4.5, 1.5],\n",
              "       [5.8, 2.7, 4.1, 1. ],\n",
              "       [6.2, 2.2, 4.5, 1.5],\n",
              "       [5.6, 2.5, 3.9, 1.1],\n",
              "       [5.9, 3.2, 4.8, 1.8],\n",
              "       [6.1, 2.8, 4. , 1.3],\n",
              "       [6.3, 2.5, 4.9, 1.5],\n",
              "       [6.1, 2.8, 4.7, 1.2],\n",
              "       [6.4, 2.9, 4.3, 1.3],\n",
              "       [6.6, 3. , 4.4, 1.4],\n",
              "       [6.8, 2.8, 4.8, 1.4],\n",
              "       [6.7, 3. , 5. , 1.7],\n",
              "       [6. , 2.9, 4.5, 1.5],\n",
              "       [5.7, 2.6, 3.5, 1. ],\n",
              "       [5.5, 2.4, 3.8, 1.1],\n",
              "       [5.5, 2.4, 3.7, 1. ],\n",
              "       [5.8, 2.7, 3.9, 1.2],\n",
              "       [6. , 2.7, 5.1, 1.6],\n",
              "       [5.4, 3. , 4.5, 1.5],\n",
              "       [6. , 3.4, 4.5, 1.6],\n",
              "       [6.7, 3.1, 4.7, 1.5],\n",
              "       [6.3, 2.3, 4.4, 1.3],\n",
              "       [5.6, 3. , 4.1, 1.3],\n",
              "       [5.5, 2.5, 4. , 1.3],\n",
              "       [5.5, 2.6, 4.4, 1.2],\n",
              "       [6.1, 3. , 4.6, 1.4],\n",
              "       [5.8, 2.6, 4. , 1.2],\n",
              "       [5. , 2.3, 3.3, 1. ],\n",
              "       [5.6, 2.7, 4.2, 1.3],\n",
              "       [5.7, 3. , 4.2, 1.2],\n",
              "       [5.7, 2.9, 4.2, 1.3],\n",
              "       [6.2, 2.9, 4.3, 1.3],\n",
              "       [5.1, 2.5, 3. , 1.1],\n",
              "       [5.7, 2.8, 4.1, 1.3],\n",
              "       [6.3, 3.3, 6. , 2.5],\n",
              "       [5.8, 2.7, 5.1, 1.9],\n",
              "       [7.1, 3. , 5.9, 2.1],\n",
              "       [6.3, 2.9, 5.6, 1.8],\n",
              "       [6.5, 3. , 5.8, 2.2],\n",
              "       [7.6, 3. , 6.6, 2.1],\n",
              "       [4.9, 2.5, 4.5, 1.7],\n",
              "       [7.3, 2.9, 6.3, 1.8],\n",
              "       [6.7, 2.5, 5.8, 1.8],\n",
              "       [7.2, 3.6, 6.1, 2.5],\n",
              "       [6.5, 3.2, 5.1, 2. ],\n",
              "       [6.4, 2.7, 5.3, 1.9],\n",
              "       [6.8, 3. , 5.5, 2.1],\n",
              "       [5.7, 2.5, 5. , 2. ],\n",
              "       [5.8, 2.8, 5.1, 2.4],\n",
              "       [6.4, 3.2, 5.3, 2.3],\n",
              "       [6.5, 3. , 5.5, 1.8],\n",
              "       [7.7, 3.8, 6.7, 2.2],\n",
              "       [7.7, 2.6, 6.9, 2.3],\n",
              "       [6. , 2.2, 5. , 1.5],\n",
              "       [6.9, 3.2, 5.7, 2.3],\n",
              "       [5.6, 2.8, 4.9, 2. ],\n",
              "       [7.7, 2.8, 6.7, 2. ],\n",
              "       [6.3, 2.7, 4.9, 1.8],\n",
              "       [6.7, 3.3, 5.7, 2.1],\n",
              "       [7.2, 3.2, 6. , 1.8],\n",
              "       [6.2, 2.8, 4.8, 1.8],\n",
              "       [6.1, 3. , 4.9, 1.8],\n",
              "       [6.4, 2.8, 5.6, 2.1],\n",
              "       [7.2, 3. , 5.8, 1.6],\n",
              "       [7.4, 2.8, 6.1, 1.9],\n",
              "       [7.9, 3.8, 6.4, 2. ],\n",
              "       [6.4, 2.8, 5.6, 2.2],\n",
              "       [6.3, 2.8, 5.1, 1.5],\n",
              "       [6.1, 2.6, 5.6, 1.4],\n",
              "       [7.7, 3. , 6.1, 2.3],\n",
              "       [6.3, 3.4, 5.6, 2.4],\n",
              "       [6.4, 3.1, 5.5, 1.8],\n",
              "       [6. , 3. , 4.8, 1.8],\n",
              "       [6.9, 3.1, 5.4, 2.1],\n",
              "       [6.7, 3.1, 5.6, 2.4],\n",
              "       [6.9, 3.1, 5.1, 2.3],\n",
              "       [5.8, 2.7, 5.1, 1.9],\n",
              "       [6.8, 3.2, 5.9, 2.3],\n",
              "       [6.7, 3.3, 5.7, 2.5],\n",
              "       [6.7, 3. , 5.2, 2.3],\n",
              "       [6.3, 2.5, 5. , 1.9],\n",
              "       [6.5, 3. , 5.2, 2. ],\n",
              "       [6.2, 3.4, 5.4, 2.3],\n",
              "       [5.9, 3. , 5.1, 1.8]])"
            ]
          },
          "metadata": {},
          "execution_count": 6
        }
      ],
      "source": [
        "X"
      ]
    },
    {
      "cell_type": "code",
      "execution_count": 7,
      "metadata": {
        "colab": {
          "base_uri": "https://localhost:8080/"
        },
        "id": "N560LsmtU7P0",
        "outputId": "663e9554-bff6-4807-ce2f-d2eabfc74076"
      },
      "outputs": [
        {
          "output_type": "execute_result",
          "data": {
            "text/plain": [
              "(torch.Size([150, 4]), torch.Size([150]))"
            ]
          },
          "metadata": {},
          "execution_count": 7
        }
      ],
      "source": [
        "x, y = torch.from_numpy(X).float(), torch.from_numpy(Y).long()\n",
        "x.shape, y.shape"
      ]
    },
    {
      "cell_type": "code",
      "execution_count": 8,
      "metadata": {
        "colab": {
          "base_uri": "https://localhost:8080/"
        },
        "id": "GNcvu3PuU7P1",
        "outputId": "95e2cccd-896e-4e45-bb35-28c6bf93ad63"
      },
      "outputs": [
        {
          "output_type": "execute_result",
          "data": {
            "text/plain": [
              "tensor([[5.1000, 3.5000, 1.4000, 0.2000],\n",
              "        [4.9000, 3.0000, 1.4000, 0.2000],\n",
              "        [4.7000, 3.2000, 1.3000, 0.2000],\n",
              "        [4.6000, 3.1000, 1.5000, 0.2000],\n",
              "        [5.0000, 3.6000, 1.4000, 0.2000],\n",
              "        [5.4000, 3.9000, 1.7000, 0.4000],\n",
              "        [4.6000, 3.4000, 1.4000, 0.3000],\n",
              "        [5.0000, 3.4000, 1.5000, 0.2000],\n",
              "        [4.4000, 2.9000, 1.4000, 0.2000],\n",
              "        [4.9000, 3.1000, 1.5000, 0.1000],\n",
              "        [5.4000, 3.7000, 1.5000, 0.2000],\n",
              "        [4.8000, 3.4000, 1.6000, 0.2000],\n",
              "        [4.8000, 3.0000, 1.4000, 0.1000],\n",
              "        [4.3000, 3.0000, 1.1000, 0.1000],\n",
              "        [5.8000, 4.0000, 1.2000, 0.2000],\n",
              "        [5.7000, 4.4000, 1.5000, 0.4000],\n",
              "        [5.4000, 3.9000, 1.3000, 0.4000],\n",
              "        [5.1000, 3.5000, 1.4000, 0.3000],\n",
              "        [5.7000, 3.8000, 1.7000, 0.3000],\n",
              "        [5.1000, 3.8000, 1.5000, 0.3000],\n",
              "        [5.4000, 3.4000, 1.7000, 0.2000],\n",
              "        [5.1000, 3.7000, 1.5000, 0.4000],\n",
              "        [4.6000, 3.6000, 1.0000, 0.2000],\n",
              "        [5.1000, 3.3000, 1.7000, 0.5000],\n",
              "        [4.8000, 3.4000, 1.9000, 0.2000],\n",
              "        [5.0000, 3.0000, 1.6000, 0.2000],\n",
              "        [5.0000, 3.4000, 1.6000, 0.4000],\n",
              "        [5.2000, 3.5000, 1.5000, 0.2000],\n",
              "        [5.2000, 3.4000, 1.4000, 0.2000],\n",
              "        [4.7000, 3.2000, 1.6000, 0.2000],\n",
              "        [4.8000, 3.1000, 1.6000, 0.2000],\n",
              "        [5.4000, 3.4000, 1.5000, 0.4000],\n",
              "        [5.2000, 4.1000, 1.5000, 0.1000],\n",
              "        [5.5000, 4.2000, 1.4000, 0.2000],\n",
              "        [4.9000, 3.1000, 1.5000, 0.2000],\n",
              "        [5.0000, 3.2000, 1.2000, 0.2000],\n",
              "        [5.5000, 3.5000, 1.3000, 0.2000],\n",
              "        [4.9000, 3.6000, 1.4000, 0.1000],\n",
              "        [4.4000, 3.0000, 1.3000, 0.2000],\n",
              "        [5.1000, 3.4000, 1.5000, 0.2000],\n",
              "        [5.0000, 3.5000, 1.3000, 0.3000],\n",
              "        [4.5000, 2.3000, 1.3000, 0.3000],\n",
              "        [4.4000, 3.2000, 1.3000, 0.2000],\n",
              "        [5.0000, 3.5000, 1.6000, 0.6000],\n",
              "        [5.1000, 3.8000, 1.9000, 0.4000],\n",
              "        [4.8000, 3.0000, 1.4000, 0.3000],\n",
              "        [5.1000, 3.8000, 1.6000, 0.2000],\n",
              "        [4.6000, 3.2000, 1.4000, 0.2000],\n",
              "        [5.3000, 3.7000, 1.5000, 0.2000],\n",
              "        [5.0000, 3.3000, 1.4000, 0.2000],\n",
              "        [7.0000, 3.2000, 4.7000, 1.4000],\n",
              "        [6.4000, 3.2000, 4.5000, 1.5000],\n",
              "        [6.9000, 3.1000, 4.9000, 1.5000],\n",
              "        [5.5000, 2.3000, 4.0000, 1.3000],\n",
              "        [6.5000, 2.8000, 4.6000, 1.5000],\n",
              "        [5.7000, 2.8000, 4.5000, 1.3000],\n",
              "        [6.3000, 3.3000, 4.7000, 1.6000],\n",
              "        [4.9000, 2.4000, 3.3000, 1.0000],\n",
              "        [6.6000, 2.9000, 4.6000, 1.3000],\n",
              "        [5.2000, 2.7000, 3.9000, 1.4000],\n",
              "        [5.0000, 2.0000, 3.5000, 1.0000],\n",
              "        [5.9000, 3.0000, 4.2000, 1.5000],\n",
              "        [6.0000, 2.2000, 4.0000, 1.0000],\n",
              "        [6.1000, 2.9000, 4.7000, 1.4000],\n",
              "        [5.6000, 2.9000, 3.6000, 1.3000],\n",
              "        [6.7000, 3.1000, 4.4000, 1.4000],\n",
              "        [5.6000, 3.0000, 4.5000, 1.5000],\n",
              "        [5.8000, 2.7000, 4.1000, 1.0000],\n",
              "        [6.2000, 2.2000, 4.5000, 1.5000],\n",
              "        [5.6000, 2.5000, 3.9000, 1.1000],\n",
              "        [5.9000, 3.2000, 4.8000, 1.8000],\n",
              "        [6.1000, 2.8000, 4.0000, 1.3000],\n",
              "        [6.3000, 2.5000, 4.9000, 1.5000],\n",
              "        [6.1000, 2.8000, 4.7000, 1.2000],\n",
              "        [6.4000, 2.9000, 4.3000, 1.3000],\n",
              "        [6.6000, 3.0000, 4.4000, 1.4000],\n",
              "        [6.8000, 2.8000, 4.8000, 1.4000],\n",
              "        [6.7000, 3.0000, 5.0000, 1.7000],\n",
              "        [6.0000, 2.9000, 4.5000, 1.5000],\n",
              "        [5.7000, 2.6000, 3.5000, 1.0000],\n",
              "        [5.5000, 2.4000, 3.8000, 1.1000],\n",
              "        [5.5000, 2.4000, 3.7000, 1.0000],\n",
              "        [5.8000, 2.7000, 3.9000, 1.2000],\n",
              "        [6.0000, 2.7000, 5.1000, 1.6000],\n",
              "        [5.4000, 3.0000, 4.5000, 1.5000],\n",
              "        [6.0000, 3.4000, 4.5000, 1.6000],\n",
              "        [6.7000, 3.1000, 4.7000, 1.5000],\n",
              "        [6.3000, 2.3000, 4.4000, 1.3000],\n",
              "        [5.6000, 3.0000, 4.1000, 1.3000],\n",
              "        [5.5000, 2.5000, 4.0000, 1.3000],\n",
              "        [5.5000, 2.6000, 4.4000, 1.2000],\n",
              "        [6.1000, 3.0000, 4.6000, 1.4000],\n",
              "        [5.8000, 2.6000, 4.0000, 1.2000],\n",
              "        [5.0000, 2.3000, 3.3000, 1.0000],\n",
              "        [5.6000, 2.7000, 4.2000, 1.3000],\n",
              "        [5.7000, 3.0000, 4.2000, 1.2000],\n",
              "        [5.7000, 2.9000, 4.2000, 1.3000],\n",
              "        [6.2000, 2.9000, 4.3000, 1.3000],\n",
              "        [5.1000, 2.5000, 3.0000, 1.1000],\n",
              "        [5.7000, 2.8000, 4.1000, 1.3000],\n",
              "        [6.3000, 3.3000, 6.0000, 2.5000],\n",
              "        [5.8000, 2.7000, 5.1000, 1.9000],\n",
              "        [7.1000, 3.0000, 5.9000, 2.1000],\n",
              "        [6.3000, 2.9000, 5.6000, 1.8000],\n",
              "        [6.5000, 3.0000, 5.8000, 2.2000],\n",
              "        [7.6000, 3.0000, 6.6000, 2.1000],\n",
              "        [4.9000, 2.5000, 4.5000, 1.7000],\n",
              "        [7.3000, 2.9000, 6.3000, 1.8000],\n",
              "        [6.7000, 2.5000, 5.8000, 1.8000],\n",
              "        [7.2000, 3.6000, 6.1000, 2.5000],\n",
              "        [6.5000, 3.2000, 5.1000, 2.0000],\n",
              "        [6.4000, 2.7000, 5.3000, 1.9000],\n",
              "        [6.8000, 3.0000, 5.5000, 2.1000],\n",
              "        [5.7000, 2.5000, 5.0000, 2.0000],\n",
              "        [5.8000, 2.8000, 5.1000, 2.4000],\n",
              "        [6.4000, 3.2000, 5.3000, 2.3000],\n",
              "        [6.5000, 3.0000, 5.5000, 1.8000],\n",
              "        [7.7000, 3.8000, 6.7000, 2.2000],\n",
              "        [7.7000, 2.6000, 6.9000, 2.3000],\n",
              "        [6.0000, 2.2000, 5.0000, 1.5000],\n",
              "        [6.9000, 3.2000, 5.7000, 2.3000],\n",
              "        [5.6000, 2.8000, 4.9000, 2.0000],\n",
              "        [7.7000, 2.8000, 6.7000, 2.0000],\n",
              "        [6.3000, 2.7000, 4.9000, 1.8000],\n",
              "        [6.7000, 3.3000, 5.7000, 2.1000],\n",
              "        [7.2000, 3.2000, 6.0000, 1.8000],\n",
              "        [6.2000, 2.8000, 4.8000, 1.8000],\n",
              "        [6.1000, 3.0000, 4.9000, 1.8000],\n",
              "        [6.4000, 2.8000, 5.6000, 2.1000],\n",
              "        [7.2000, 3.0000, 5.8000, 1.6000],\n",
              "        [7.4000, 2.8000, 6.1000, 1.9000],\n",
              "        [7.9000, 3.8000, 6.4000, 2.0000],\n",
              "        [6.4000, 2.8000, 5.6000, 2.2000],\n",
              "        [6.3000, 2.8000, 5.1000, 1.5000],\n",
              "        [6.1000, 2.6000, 5.6000, 1.4000],\n",
              "        [7.7000, 3.0000, 6.1000, 2.3000],\n",
              "        [6.3000, 3.4000, 5.6000, 2.4000],\n",
              "        [6.4000, 3.1000, 5.5000, 1.8000],\n",
              "        [6.0000, 3.0000, 4.8000, 1.8000],\n",
              "        [6.9000, 3.1000, 5.4000, 2.1000],\n",
              "        [6.7000, 3.1000, 5.6000, 2.4000],\n",
              "        [6.9000, 3.1000, 5.1000, 2.3000],\n",
              "        [5.8000, 2.7000, 5.1000, 1.9000],\n",
              "        [6.8000, 3.2000, 5.9000, 2.3000],\n",
              "        [6.7000, 3.3000, 5.7000, 2.5000],\n",
              "        [6.7000, 3.0000, 5.2000, 2.3000],\n",
              "        [6.3000, 2.5000, 5.0000, 1.9000],\n",
              "        [6.5000, 3.0000, 5.2000, 2.0000],\n",
              "        [6.2000, 3.4000, 5.4000, 2.3000],\n",
              "        [5.9000, 3.0000, 5.1000, 1.8000]])"
            ]
          },
          "metadata": {},
          "execution_count": 8
        }
      ],
      "source": [
        "x"
      ]
    },
    {
      "cell_type": "code",
      "execution_count": 209,
      "metadata": {
        "id": "kugDMqJzU7P2"
      },
      "outputs": [],
      "source": [
        "#Train test split\n",
        "from sklearn.model_selection import train_test_split\n",
        "X = x\n",
        "X_train, X_test, y_train, y_test = train_test_split(X,y, test_size = 0.2, random_state=41)"
      ]
    },
    {
      "cell_type": "code",
      "execution_count": 210,
      "metadata": {
        "colab": {
          "base_uri": "https://localhost:8080/"
        },
        "id": "qLgJa_dmU7P2",
        "outputId": "4be6d75e-b269-48d6-c495-632486cfd9c8"
      },
      "outputs": [
        {
          "output_type": "execute_result",
          "data": {
            "text/plain": [
              "tensor([1, 1, 2, 1, 2, 0, 2, 1, 2, 1, 1, 1, 0, 2, 2, 0, 2, 1, 0, 1, 2, 1, 2, 0,\n",
              "        0, 2, 2, 0, 1, 0, 0, 1, 0, 1, 2, 0, 1, 1, 2, 0, 1, 1, 0, 2, 1, 0, 2, 2,\n",
              "        0, 1, 0, 0, 2, 2, 2, 0, 0, 0, 0, 0, 2, 2, 0, 2, 1, 0, 0, 2, 2, 2, 1, 1,\n",
              "        2, 0, 1, 2, 1, 1, 0, 1, 0, 1, 0, 1, 2, 2, 2, 0, 0, 0, 0, 2, 0, 0, 1, 2,\n",
              "        0, 2, 0, 1, 2, 1, 0, 2, 0, 1, 0, 2, 1, 1, 2, 1, 1, 2, 2, 0, 1, 1, 1, 2])"
            ]
          },
          "metadata": {},
          "execution_count": 210
        }
      ],
      "source": [
        "y_train"
      ]
    },
    {
      "cell_type": "code",
      "execution_count": 211,
      "metadata": {
        "colab": {
          "base_uri": "https://localhost:8080/"
        },
        "id": "c4TcebmuU7P3",
        "outputId": "b7d92512-78f5-4579-8081-2b0307f8ac35"
      },
      "outputs": [
        {
          "output_type": "execute_result",
          "data": {
            "text/plain": [
              "torch.Size([120, 4])"
            ]
          },
          "metadata": {},
          "execution_count": 211
        }
      ],
      "source": [
        "X_train.shape"
      ]
    },
    {
      "cell_type": "code",
      "execution_count": 212,
      "metadata": {
        "colab": {
          "base_uri": "https://localhost:8080/"
        },
        "id": "xj6NxZojU7P4",
        "outputId": "825047ed-6bb8-44c5-a72e-5679c801df82"
      },
      "outputs": [
        {
          "output_type": "execute_result",
          "data": {
            "text/plain": [
              "torch.Size([30, 4])"
            ]
          },
          "metadata": {},
          "execution_count": 212
        }
      ],
      "source": [
        "X_test.shape"
      ]
    },
    {
      "cell_type": "code",
      "execution_count": 213,
      "metadata": {
        "colab": {
          "base_uri": "https://localhost:8080/"
        },
        "id": "dHPDV8QPU7P5",
        "outputId": "6c50955d-de37-4f1c-93ed-bec09e0c53bc"
      },
      "outputs": [
        {
          "output_type": "execute_result",
          "data": {
            "text/plain": [
              "torch.Size([81, 4])"
            ]
          },
          "metadata": {},
          "execution_count": 213
        }
      ],
      "source": [
        "# Remove class 1 (out of classes 0, 1 and 2) from the train data\n",
        "X_train_filtered = X_train[y_train!=1]\n",
        "X_train_filtered.shape"
      ]
    },
    {
      "cell_type": "code",
      "execution_count": 214,
      "metadata": {
        "colab": {
          "base_uri": "https://localhost:8080/"
        },
        "id": "OBdhzIoVU7P5",
        "outputId": "2697ffee-8b91-4253-97b9-76011ef4a450"
      },
      "outputs": [
        {
          "output_type": "execute_result",
          "data": {
            "text/plain": [
              "torch.Size([81])"
            ]
          },
          "metadata": {},
          "execution_count": 214
        }
      ],
      "source": [
        "y_train_filtered = y_train[y_train!=1]\n",
        "y_train_filtered.shape"
      ]
    },
    {
      "cell_type": "markdown",
      "metadata": {
        "id": "OZV3bp4sU7P6"
      },
      "source": [
        "## 2. Define Model"
      ]
    },
    {
      "cell_type": "code",
      "execution_count": 238,
      "metadata": {
        "id": "R0MhCy_EU7P6"
      },
      "outputs": [],
      "source": [
        "model = nn.Sequential(\n",
        "    bnn.BayesLinear(prior_mu=0, prior_sigma=0.5, in_features=4, out_features=8),\n",
        "    nn.ReLU(),\n",
        "    bnn.BayesLinear(prior_mu=0, prior_sigma=0.5, in_features=8, out_features=9),\n",
        "    nn.ReLU(),\n",
        "    bnn.BayesLinear(prior_mu=0, prior_sigma=1, in_features=9, out_features=3),\n",
        "    nn.Softmax(dim=1)\n",
        ")"
      ]
    },
    {
      "cell_type": "code",
      "execution_count": 239,
      "metadata": {
        "id": "uvQ-CzxqU7P7"
      },
      "outputs": [],
      "source": [
        "ce_loss = nn.CrossEntropyLoss()\n",
        "kl_loss = bnn.BKLLoss(reduction='mean', last_layer_only=False)\n",
        "\n",
        "optimizer = optim.Adam(model.parameters(), lr=0.01)"
      ]
    },
    {
      "cell_type": "markdown",
      "metadata": {
        "id": "V8hU-3hYU7P8"
      },
      "source": [
        "## 3. Train Model"
      ]
    },
    {
      "cell_type": "code",
      "execution_count": 240,
      "metadata": {
        "id": "DWPB4KbYU7P9"
      },
      "outputs": [],
      "source": [
        "kl_weight = 0.01\n",
        "filter_train = False"
      ]
    },
    {
      "cell_type": "code",
      "execution_count": 241,
      "metadata": {
        "id": "HOO3gWRMU7P9"
      },
      "outputs": [],
      "source": [
        "filtered_indices = [i for (i, label) in enumerate(y_train) if label!=1]\n",
        "X_train_filtered = X_train[torch.tensor(filtered_indices)]\n",
        "y_train_filtered = y_train[torch.tensor(filtered_indices)]"
      ]
    },
    {
      "cell_type": "code",
      "execution_count": 242,
      "metadata": {
        "colab": {
          "base_uri": "https://localhost:8080/"
        },
        "id": "8zkTgpNJU7P9",
        "outputId": "9603f581-0d95-4f9a-8688-f614f0f54e34"
      },
      "outputs": [
        {
          "output_type": "execute_result",
          "data": {
            "text/plain": [
              "81"
            ]
          },
          "metadata": {},
          "execution_count": 242
        }
      ],
      "source": [
        "len(filtered_indices)"
      ]
    },
    {
      "cell_type": "code",
      "source": [],
      "metadata": {
        "id": "neFiBWX3xwLn"
      },
      "execution_count": null,
      "outputs": []
    },
    {
      "cell_type": "code",
      "execution_count": 243,
      "metadata": {
        "colab": {
          "base_uri": "https://localhost:8080/"
        },
        "id": "x0ryDmdOU7P-",
        "outputId": "cc8d2cfb-5e42-45a7-9a0e-a1189f8e32a9"
      },
      "outputs": [
        {
          "output_type": "execute_result",
          "data": {
            "text/plain": [
              "tensor([2, 2, 0, 2, 2, 0, 2, 2, 0, 2, 0, 2, 2, 0, 0, 2, 2, 0, 0, 0, 0, 2, 0, 2,\n",
              "        0, 0, 2, 0, 2, 2, 0, 0, 0, 2, 2, 2, 0, 0, 0, 0, 0, 2, 2, 0, 2, 0, 0, 2,\n",
              "        2, 2, 2, 0, 2, 0, 0, 0, 2, 2, 2, 0, 0, 0, 0, 2, 0, 0, 2, 0, 2, 0, 2, 0,\n",
              "        2, 0, 0, 2, 2, 2, 2, 0, 2])"
            ]
          },
          "metadata": {},
          "execution_count": 243
        }
      ],
      "source": [
        "y_train_filtered"
      ]
    },
    {
      "cell_type": "code",
      "execution_count": 244,
      "metadata": {
        "colab": {
          "base_uri": "https://localhost:8080/"
        },
        "id": "k0CwtY4mU7P-",
        "outputId": "93e67467-6aa8-430c-9f7d-86cde7d57b87"
      },
      "outputs": [
        {
          "output_type": "stream",
          "name": "stdout",
          "text": [
            "- Accuracy: 98.765432 %\n",
            "- CE : 0.58, KL : 0.68\n"
          ]
        }
      ],
      "source": [
        "#Train the model only on classes 0 and 2\n",
        "for step in range(2000):\n",
        "    pre = model(X_train_filtered)\n",
        "    ce = ce_loss(pre, y_train_filtered)\n",
        "    kl = kl_loss(model)\n",
        "    cost = ce + kl_weight*kl\n",
        "\n",
        "    optimizer.zero_grad()\n",
        "    cost.backward()\n",
        "    optimizer.step()\n",
        "\n",
        "_, predicted = torch.max(pre.data, 1)\n",
        "total = y_train_filtered.size(0)\n",
        "correct = (predicted == y_train_filtered).sum()\n",
        "print('- Accuracy: %f %%' % (100 * float(correct) / total))\n",
        "print('- CE : %2.2f, KL : %2.2f' % (ce.item(), kl.item()))"
      ]
    },
    {
      "cell_type": "markdown",
      "metadata": {
        "id": "DLEcrI5VU7P_"
      },
      "source": [
        "## 4. Test Model"
      ]
    },
    {
      "cell_type": "code",
      "execution_count": 245,
      "metadata": {
        "id": "VVkDYJB8U7P_"
      },
      "outputs": [],
      "source": [
        "# Sample 10k models and store the results\n",
        "n_models = 10000\n",
        "models_result = [model(X_test) for k in range(n_models)]"
      ]
    },
    {
      "cell_type": "code",
      "execution_count": 246,
      "metadata": {
        "colab": {
          "base_uri": "https://localhost:8080/"
        },
        "id": "XZsZ4cK2U7QA",
        "outputId": "9199f1ed-5c31-453d-aa56-ec7a39cea207"
      },
      "outputs": [
        {
          "output_type": "execute_result",
          "data": {
            "text/plain": [
              "2"
            ]
          },
          "metadata": {},
          "execution_count": 246
        }
      ],
      "source": [
        "models_result[0][0].argmax().item()"
      ]
    },
    {
      "cell_type": "code",
      "execution_count": 247,
      "metadata": {
        "id": "Up4oE7FJU7QA"
      },
      "outputs": [],
      "source": [
        "results = np.zeros((n_models, X_test.shape[0]))     # num. of models, number of test datapoints\n",
        "for i in range(n_models):\n",
        "    for j in range(X_test.shape[0]):\n",
        "        results[i][j] = models_result[i][j].argmax().item()"
      ]
    },
    {
      "cell_type": "markdown",
      "metadata": {
        "id": "yKqK20GHU7QB"
      },
      "source": [
        "## Within sample mean and variation"
      ]
    },
    {
      "cell_type": "code",
      "execution_count": 248,
      "metadata": {
        "colab": {
          "base_uri": "https://localhost:8080/"
        },
        "id": "nMlq-G_NU7QD",
        "outputId": "aa6a714c-ad07-4d57-bef7-2bf794621f1c"
      },
      "outputs": [
        {
          "output_type": "execute_result",
          "data": {
            "text/plain": [
              "tensor([[6.0000, 2.2000, 5.0000, 1.5000],\n",
              "        [6.4000, 2.8000, 5.6000, 2.1000],\n",
              "        [7.7000, 3.0000, 6.1000, 2.3000],\n",
              "        [6.1000, 3.0000, 4.6000, 1.4000],\n",
              "        [6.8000, 3.0000, 5.5000, 2.1000],\n",
              "        [6.1000, 2.8000, 4.0000, 1.3000],\n",
              "        [6.3000, 2.7000, 4.9000, 1.8000],\n",
              "        [6.0000, 3.4000, 4.5000, 1.6000],\n",
              "        [6.5000, 3.0000, 5.2000, 2.0000],\n",
              "        [6.8000, 3.2000, 5.9000, 2.3000],\n",
              "        [6.1000, 3.0000, 4.9000, 1.8000],\n",
              "        [5.1000, 3.4000, 1.5000, 0.2000],\n",
              "        [4.4000, 3.0000, 1.3000, 0.2000],\n",
              "        [5.0000, 2.3000, 3.3000, 1.0000],\n",
              "        [5.1000, 3.3000, 1.7000, 0.5000],\n",
              "        [6.3000, 2.8000, 5.1000, 1.5000],\n",
              "        [4.8000, 3.1000, 1.6000, 0.2000],\n",
              "        [6.0000, 2.7000, 5.1000, 1.6000],\n",
              "        [4.9000, 3.6000, 1.4000, 0.1000],\n",
              "        [4.5000, 2.3000, 1.3000, 0.3000],\n",
              "        [5.5000, 2.4000, 3.7000, 1.0000],\n",
              "        [6.9000, 3.2000, 5.7000, 2.3000],\n",
              "        [5.0000, 3.5000, 1.6000, 0.6000],\n",
              "        [4.7000, 3.2000, 1.3000, 0.2000],\n",
              "        [5.6000, 2.9000, 3.6000, 1.3000],\n",
              "        [6.0000, 2.2000, 4.0000, 1.0000],\n",
              "        [6.3000, 3.3000, 4.7000, 1.6000],\n",
              "        [5.8000, 2.7000, 4.1000, 1.0000],\n",
              "        [5.0000, 3.3000, 1.4000, 0.2000],\n",
              "        [6.1000, 2.9000, 4.7000, 1.4000]])"
            ]
          },
          "metadata": {},
          "execution_count": 248
        }
      ],
      "source": [
        "X_test"
      ]
    },
    {
      "cell_type": "code",
      "execution_count": 249,
      "metadata": {
        "colab": {
          "base_uri": "https://localhost:8080/"
        },
        "id": "AzhmFRvUU7QD",
        "outputId": "a90a10ec-b4c3-490f-c54b-0a17372ff7cd"
      },
      "outputs": [
        {
          "output_type": "execute_result",
          "data": {
            "text/plain": [
              "tensor([2, 2, 2, 1, 2, 1, 2, 1, 2, 2, 2, 0, 0, 1, 0, 2, 0, 1, 0, 0, 1, 2, 0, 0,\n",
              "        1, 1, 1, 1, 0, 1])"
            ]
          },
          "metadata": {},
          "execution_count": 249
        }
      ],
      "source": [
        "y_test"
      ]
    },
    {
      "cell_type": "markdown",
      "metadata": {
        "id": "tBp9pWJUU7QE"
      },
      "source": [
        "# Unseen class"
      ]
    },
    {
      "cell_type": "code",
      "execution_count": 262,
      "metadata": {
        "id": "AUcLyqNlU7QF"
      },
      "outputs": [],
      "source": [
        "filtered_indices_unseen = [i for (i, label) in enumerate(y_test) if label==1]\n",
        "X_test_filtered = X_test[torch.tensor(filtered_indices_unseen)]\n",
        "y_test_filtered = y_test[torch.tensor(filtered_indices_unseen)]"
      ]
    },
    {
      "cell_type": "code",
      "execution_count": 263,
      "metadata": {
        "colab": {
          "base_uri": "https://localhost:8080/"
        },
        "id": "YoKU59CoU7QG",
        "outputId": "d4acdab5-d165-4183-c066-6ba1ee36ed66"
      },
      "outputs": [
        {
          "output_type": "stream",
          "name": "stdout",
          "text": [
            " \tTest run 1000/1000"
          ]
        }
      ],
      "source": [
        "n_models = 1000\n",
        "samples = torch.zeros((n_models, len(y_test_filtered), 3))\n",
        "\n",
        "for i in range(n_models) :\n",
        "  print(\"\\r\", \"\\tTest run {}/{}\".format(i+1, n_models), end=\"\")\n",
        "\n",
        "  samples[i,:,:] = model(X_test_filtered)"
      ]
    },
    {
      "cell_type": "code",
      "execution_count": 264,
      "metadata": {
        "colab": {
          "base_uri": "https://localhost:8080/"
        },
        "id": "weQ8oorVU7QH",
        "outputId": "0239e604-b52b-4abf-e34c-039b7b741dfc"
      },
      "outputs": [
        {
          "output_type": "stream",
          "name": "stdout",
          "text": [
            "\n",
            "Class prediction analysis:\n",
            "\tMean class probabilities:\n",
            "tensor([1.0142e-01, 1.8909e-04, 8.9840e-01], grad_fn=<MeanBackward1>)\n",
            "\tPrediction standard deviation per sample:\n",
            "tensor([0.2724, 0.0026, 0.2726], grad_fn=<SqrtBackward0>)\n",
            "\tPrediction standard deviation across samples:\n",
            "tensor([0.0655, 0.0001, 0.0656], grad_fn=<StdBackward0>)\n"
          ]
        }
      ],
      "source": [
        "withinSampleMean = torch.mean(samples, dim=0)\n",
        "samplesMean = torch.mean(samples, dim=(0,1))\n",
        "\n",
        "withinSampleStd = torch.sqrt(torch.mean(torch.var(samples, dim=0), dim=0))\n",
        "acrossSamplesStd = torch.std(withinSampleMean, dim=0)\n",
        "\n",
        "print(\"\")\n",
        "print(\"Class prediction analysis:\")\n",
        "print(\"\\tMean class probabilities:\")\n",
        "print(samplesMean)\n",
        "print(\"\\tPrediction standard deviation per sample:\")\n",
        "print(withinSampleStd)\n",
        "print(\"\\tPrediction standard deviation across samples:\")\n",
        "print(acrossSamplesStd)"
      ]
    },
    {
      "cell_type": "code",
      "execution_count": 265,
      "metadata": {
        "colab": {
          "base_uri": "https://localhost:8080/",
          "height": 449
        },
        "id": "It18aNWuU7QH",
        "outputId": "18ed5f04-61f5-4bbc-dc38-c31faf926583"
      },
      "outputs": [
        {
          "output_type": "display_data",
          "data": {
            "text/plain": [
              "<Figure size 640x480 with 1 Axes>"
            ],
            "image/png": "[encoded data removed]"
          },
          "metadata": {}
        }
      ],
      "source": [
        "plt.figure(\"Unseen class probabilities\")\n",
        "plt.bar(np.arange(3), samplesMean.detach().numpy())\n",
        "plt.xlabel('digits')\n",
        "plt.ylabel('digit prob')\n",
        "# plt.ylim([0,1])\n",
        "plt.xticks(np.arange(3))\n",
        "plt.show()"
      ]
    },
    {
      "cell_type": "code",
      "source": [
        "plt.figure(\"Unseen inner and outter sample std\")\n",
        "plt.bar(np.arange(3)+0.2, withinSampleStd.detach().numpy(), width = 0.4, label=\"Within sample\")\n",
        "plt.bar(np.arange(3)-0.2, acrossSamplesStd.detach().numpy(), width = 0.4, label=\"Across samples\")\n",
        "plt.legend()\n",
        "plt.xlabel('digits')\n",
        "plt.ylabel('std digit prob')\n",
        "plt.xticks(np.arange(3))\n",
        "plt.show()"
      ],
      "metadata": {
        "id": "FI30YN1qoMHC",
        "outputId": "a6c07f3f-9a0a-4317-faf3-5e1d747c17fc",
        "colab": {
          "base_uri": "https://localhost:8080/",
          "height": 449
        }
      },
      "execution_count": 266,
      "outputs": [
        {
          "output_type": "display_data",
          "data": {
            "text/plain": [
              "<Figure size 640x480 with 1 Axes>"
            ],
            "image/png": "[encoded data removed]"
          },
          "metadata": {}
        }
      ]
    },
    {
      "cell_type": "code",
      "source": [
        "fig, axs = plt.subplots(1, 2, figsize=(6, 3))\n",
        "axs[0].grid()\n",
        "axs[0].bar(np.arange(3), samplesMean.detach().numpy())\n",
        "axs[0].set(xlabel='Flower Class', ylabel='Class Probability', xticks=np.arange(3))\n",
        "axs[1].grid()\n",
        "axs[1].bar(np.arange(3)+0.2, withinSampleStd.detach().numpy(), width = 0.4, label=\"Within sample\")\n",
        "axs[1].bar(np.arange(3)-0.2, acrossSamplesStd.detach().numpy(), width = 0.4, label=\"Across samples\")\n",
        "axs[1].legend()\n",
        "axs[1].set(xlabel='Flower Class', ylabel='Standard Deviation', xticks=np.arange(3))\n",
        "fig.suptitle('Unseen Class Probabilites and Standard Deviation')\n",
        "fig.tight_layout()\n",
        "plt.savefig('unseen_class.pdf')\n",
        "plt.show()"
      ],
      "metadata": {
        "id": "jx_KE8DQzG7A",
        "outputId": "aa72f4ae-71f4-477f-f120-6ab5fefa8673",
        "colab": {
          "base_uri": "https://localhost:8080/",
          "height": 316
        }
      },
      "execution_count": 267,
      "outputs": [
        {
          "output_type": "display_data",
          "data": {
            "text/plain": [
              "<Figure size 600x300 with 2 Axes>"
            ],
            "image/png": "[encoded data removed]"
          },
          "metadata": {}
        }
      ]
    },
    {
      "cell_type": "markdown",
      "metadata": {
        "id": "LQafzZGPU7QN"
      },
      "source": [
        "# Seen"
      ]
    },
    {
      "cell_type": "code",
      "execution_count": 268,
      "metadata": {
        "id": "kbVSOQaFU7QN"
      },
      "outputs": [],
      "source": [
        "filtered_indices_seen = [i for (i, label) in enumerate(y_test) if label==2]\n",
        "X_test_filtered = X_test[torch.tensor(filtered_indices_seen)]\n",
        "y_test_filtered = y_test[torch.tensor(filtered_indices_seen)]"
      ]
    },
    {
      "cell_type": "code",
      "execution_count": 269,
      "metadata": {
        "colab": {
          "base_uri": "https://localhost:8080/"
        },
        "id": "OvarlYpvU7QN",
        "outputId": "0ee87e06-ae16-4c98-f28e-5b5028d83d69"
      },
      "outputs": [
        {
          "output_type": "stream",
          "name": "stdout",
          "text": [
            " \tTest run 1000/1000"
          ]
        }
      ],
      "source": [
        "n_models = 1000\n",
        "samples = torch.zeros((n_models, len(y_test_filtered), 3))\n",
        "\n",
        "for i in range(n_models) :\n",
        "  print(\"\\r\", \"\\tTest run {}/{}\".format(i+1, n_models), end=\"\")\n",
        "\n",
        "  samples[i,:,:] = model(X_test_filtered)"
      ]
    },
    {
      "cell_type": "code",
      "execution_count": 270,
      "metadata": {
        "colab": {
          "base_uri": "https://localhost:8080/"
        },
        "id": "3X0XDeHpU7QO",
        "outputId": "d0b7f0a2-1fcc-4a6d-9aed-64be0bede42e"
      },
      "outputs": [
        {
          "output_type": "stream",
          "name": "stdout",
          "text": [
            "\n",
            "Class prediction analysis:\n",
            "\tMean class probabilities:\n",
            "tensor([7.6020e-03, 2.8251e-06, 9.9240e-01], grad_fn=<MeanBackward1>)\n",
            "\tPrediction standard deviation per sample:\n",
            "tensor([7.4792e-02, 5.5967e-05, 7.4804e-02], grad_fn=<SqrtBackward0>)\n",
            "\tPrediction standard deviation across samples:\n",
            "tensor([6.2554e-03, 3.3124e-06, 6.2586e-03], grad_fn=<StdBackward0>)\n"
          ]
        }
      ],
      "source": [
        "withinSampleMean = torch.mean(samples, dim=0)\n",
        "samplesMean = torch.mean(samples, dim=(0,1))\n",
        "\n",
        "withinSampleStd = torch.sqrt(torch.mean(torch.var(samples, dim=0), dim=0))\n",
        "acrossSamplesStd = torch.std(withinSampleMean, dim=0)\n",
        "\n",
        "print(\"\")\n",
        "print(\"Class prediction analysis:\")\n",
        "print(\"\\tMean class probabilities:\")\n",
        "print(samplesMean)\n",
        "print(\"\\tPrediction standard deviation per sample:\")\n",
        "print(withinSampleStd)\n",
        "print(\"\\tPrediction standard deviation across samples:\")\n",
        "print(acrossSamplesStd)"
      ]
    },
    {
      "cell_type": "code",
      "execution_count": 271,
      "metadata": {
        "colab": {
          "base_uri": "https://localhost:8080/",
          "height": 449
        },
        "id": "LH9rBGwEU7QO",
        "outputId": "5ec49343-8d09-4081-9020-4412a0d68121"
      },
      "outputs": [
        {
          "output_type": "display_data",
          "data": {
            "text/plain": [
              "<Figure size 640x480 with 1 Axes>"
            ],
            "image/png": "[encoded data removed]"
          },
          "metadata": {}
        }
      ],
      "source": [
        "plt.figure(\"Seen class probabilities\")\n",
        "plt.bar(np.arange(3), samplesMean.detach().numpy())\n",
        "plt.xlabel('digits')\n",
        "plt.ylabel('digit prob')\n",
        "# plt.ylim([0,1])\n",
        "plt.xticks(np.arange(3))\n",
        "plt.show()"
      ]
    },
    {
      "cell_type": "code",
      "source": [
        "plt.figure(\"Unseen inner and outter sample std\")\n",
        "plt.bar(np.arange(3)+0.2, withinSampleStd.detach().numpy(), width = 0.4, label=\"Within sample\")\n",
        "plt.bar(np.arange(3)-0.2, acrossSamplesStd.detach().numpy(), width = 0.4, label=\"Across samples\")\n",
        "plt.legend()\n",
        "plt.xlabel('digits')\n",
        "plt.ylabel('std digit prob')\n",
        "plt.xticks(np.arange(3))\n",
        "plt.show()"
      ],
      "metadata": {
        "id": "757AxOkOn8o6",
        "outputId": "4857b6ad-4cae-4873-b472-94d21e1c9b78",
        "colab": {
          "base_uri": "https://localhost:8080/",
          "height": 449
        }
      },
      "execution_count": 272,
      "outputs": [
        {
          "output_type": "display_data",
          "data": {
            "text/plain": [
              "<Figure size 640x480 with 1 Axes>"
            ],
            "image/png": "[encoded data removed]"
          },
          "metadata": {}
        }
      ]
    },
    {
      "cell_type": "code",
      "source": [
        "fig, axs = plt.subplots(1, 2, figsize=(6, 3))\n",
        "axs[0].grid()\n",
        "axs[0].bar(np.arange(3), samplesMean.detach().numpy())\n",
        "axs[0].set(xlabel='Flower Class', ylabel='Class Probability', xticks=np.arange(3))\n",
        "axs[1].grid()\n",
        "axs[1].bar(np.arange(3)+0.2, withinSampleStd.detach().numpy(), width = 0.4, label=\"Within sample\")\n",
        "axs[1].bar(np.arange(3)-0.2, acrossSamplesStd.detach().numpy(), width = 0.4, label=\"Across samples\")\n",
        "axs[1].legend()\n",
        "axs[1].set(xlabel='Flower Class', ylabel='Standard Deviation', xticks=np.arange(3))\n",
        "fig.suptitle('Seen Class Probabilites and Standard Deviation')\n",
        "fig.tight_layout()\n",
        "plt.savefig('seen_class.pdf')\n",
        "plt.show()"
      ],
      "metadata": {
        "id": "sdedfaMetO5O",
        "outputId": "18df206e-04ba-4c5a-eaf3-5d554d1f6fea",
        "colab": {
          "base_uri": "https://localhost:8080/",
          "height": 316
        }
      },
      "execution_count": 273,
      "outputs": [
        {
          "output_type": "display_data",
          "data": {
            "text/plain": [
              "<Figure size 600x300 with 2 Axes>"
            ],
            "image/png": "[encoded data removed]"
          },
          "metadata": {}
        }
      ]
    },
    {
      "cell_type": "code",
      "source": [
        "samples.shape"
      ],
      "metadata": {
        "id": "Et9mS8SJoqtS"
      },
      "execution_count": null,
      "outputs": []
    },
    {
      "cell_type": "code",
      "source": [
        "withinSampleMean.shape"
      ],
      "metadata": {
        "id": "PjavB7KupZJ4",
        "outputId": "6451c1f9-b972-42ee-efea-641aec3356d7",
        "colab": {
          "base_uri": "https://localhost:8080/"
        }
      },
      "execution_count": 62,
      "outputs": [
        {
          "output_type": "execute_result",
          "data": {
            "text/plain": [
              "torch.Size([9, 3])"
            ]
          },
          "metadata": {},
          "execution_count": 62
        }
      ]
    },
    {
      "cell_type": "code",
      "source": [],
      "metadata": {
        "id": "x4gpaPDQppOS"
      },
      "execution_count": null,
      "outputs": []
    }
  ],
  "metadata": {
    "kernelspec": {
      "display_name": "base",
      "language": "python",
      "name": "python3"
    },
    "language_info": {
      "codemirror_mode": {
        "name": "ipython",
        "version": 3
      },
      "file_extension": ".py",
      "mimetype": "text/x-python",
      "name": "python",
      "nbconvert_exporter": "python",
      "pygments_lexer": "ipython3",
      "version": "3.12.1"
    },
    "colab": {
      "provenance": []
    }
  },
  "nbformat": 4,
  "nbformat_minor": 0
}